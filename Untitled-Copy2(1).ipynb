{
 "cells": [
  {
   "cell_type": "code",
   "execution_count": 1,
   "metadata": {
    "collapsed": true
   },
   "outputs": [],
   "source": [
    "import pandas as pd\n",
    "import numpy as np\n",
    "import json\n",
    "from collections import defaultdict\n",
    "from __future__ import division\n",
    "import pylab as plt\n",
    "import random\n",
    "import math\n",
    "from sklearn import preprocessing\n",
    "from sklearn import svm\n",
    "from sklearn.ensemble import RandomForestClassifier ###used to test random forest\n",
    "from sklearn.ensemble import AdaBoostClassifier\n",
    "from sklearn.linear_model import LogisticRegression\n",
    "from sklearn.naive_bayes import GaussianNB"
   ]
  },
  {
   "cell_type": "code",
   "execution_count": 2,
   "metadata": {
    "collapsed": false
   },
   "outputs": [
    {
     "ename": "NameError",
     "evalue": "name 'Ph_user' is not defined",
     "output_type": "error",
     "traceback": [
      "\u001b[0;31m---------------------------------------------------------------------------\u001b[0m",
      "\u001b[0;31mNameError\u001b[0m                                 Traceback (most recent call last)",
      "\u001b[0;32m<ipython-input-2-54f9b3588b8d>\u001b[0m in \u001b[0;36m<module>\u001b[0;34m()\u001b[0m\n\u001b[1;32m      1\u001b[0m \u001b[0;31m###test\u001b[0m\u001b[0;34m\u001b[0m\u001b[0;34m\u001b[0m\u001b[0m\n\u001b[0;32m----> 2\u001b[0;31m \u001b[0mPh_user\u001b[0m\u001b[0;34m[\u001b[0m\u001b[0;34m'faaOI6hU64h6SSaF0f11eg'\u001b[0m\u001b[0;34m]\u001b[0m\u001b[0;34m\u001b[0m\u001b[0m\n\u001b[0m",
      "\u001b[0;31mNameError\u001b[0m: name 'Ph_user' is not defined"
     ]
    }
   ],
   "source": [
    "###test\n",
    "Ph_user['faaOI6hU64h6SSaF0f11eg']"
   ]
  },
  {
   "cell_type": "code",
   "execution_count": 3,
   "metadata": {
    "collapsed": true
   },
   "outputs": [],
   "source": [
    "reviews = pd.read_pickle('review.pkl')\n",
    "# read review data\n"
   ]
  },
  {
   "cell_type": "code",
   "execution_count": 4,
   "metadata": {
    "collapsed": false
   },
   "outputs": [
    {
     "name": "stdout",
     "output_type": "stream",
     "text": [
      "4153150\n"
     ]
    }
   ],
   "source": [
    "\n",
    "N = reviews.shape[0]\n",
    "print N"
   ]
  },
  {
   "cell_type": "code",
   "execution_count": 5,
   "metadata": {
    "collapsed": true
   },
   "outputs": [],
   "source": [
    "common_business = dict() "
   ]
  },
  {
   "cell_type": "code",
   "execution_count": 6,
   "metadata": {
    "collapsed": true
   },
   "outputs": [],
   "source": [
    "########################get the user from a specific city\n",
    "import pandas as pd\n",
    "import numpy as np\n",
    "import json\n",
    "import pylab as plt\n",
    "import collections\n",
    "import operator\n",
    "#from sets import Set\n",
    "from collections import defaultdict\n",
    "from IPython.display import display"
   ]
  },
  {
   "cell_type": "code",
   "execution_count": 7,
   "metadata": {
    "collapsed": true
   },
   "outputs": [],
   "source": [
    "with open('yelp_academic_dataset_business.json') as f:\n",
    "    data = pd.DataFrame(json.loads(line) for line in f)"
   ]
  },
  {
   "cell_type": "code",
   "execution_count": 8,
   "metadata": {
    "collapsed": true
   },
   "outputs": [],
   "source": [
    "tmp_arr = np.array(data.categories.map(lambda x: x and 'Restaurants' in x))\n",
    "idxs = list(np.where(tmp_arr == True)[0])\n",
    "restaurant_data = data.iloc[idxs]"
   ]
  },
  {
   "cell_type": "code",
   "execution_count": 9,
   "metadata": {
    "collapsed": false
   },
   "outputs": [
    {
     "data": {
      "text/html": [
       "<div>\n",
       "<table border=\"1\" class=\"dataframe\">\n",
       "  <thead>\n",
       "    <tr style=\"text-align: right;\">\n",
       "      <th></th>\n",
       "      <th>business_id</th>\n",
       "      <th>categories</th>\n",
       "      <th>name</th>\n",
       "      <th>stars</th>\n",
       "    </tr>\n",
       "  </thead>\n",
       "  <tbody>\n",
       "    <tr>\n",
       "      <th>33</th>\n",
       "      <td>YPavuOh2XsnRbLfl0DH2lQ</td>\n",
       "      <td>[Restaurants, Waffles, Southern, Soul Food]</td>\n",
       "      <td>Lo-Lo's Chicken &amp; Waffles</td>\n",
       "      <td>4.0</td>\n",
       "    </tr>\n",
       "    <tr>\n",
       "      <th>52</th>\n",
       "      <td>F53MSa5SYzO9BG8c_JhskQ</td>\n",
       "      <td>[Vietnamese, Restaurants]</td>\n",
       "      <td>Pho Viet</td>\n",
       "      <td>2.5</td>\n",
       "    </tr>\n",
       "    <tr>\n",
       "      <th>53</th>\n",
       "      <td>hEcn9k6ONd5n2mq0lB2aew</td>\n",
       "      <td>[American (Traditional), Restaurants]</td>\n",
       "      <td>JB's Restaurant</td>\n",
       "      <td>3.5</td>\n",
       "    </tr>\n",
       "    <tr>\n",
       "      <th>164</th>\n",
       "      <td>Ld2hhA3q3cdkptwS1fsYEg</td>\n",
       "      <td>[Restaurants, Noodles, Sushi Bars, Japanese, S...</td>\n",
       "      <td>Yogi's Grill</td>\n",
       "      <td>4.0</td>\n",
       "    </tr>\n",
       "    <tr>\n",
       "      <th>199</th>\n",
       "      <td>a48i_DFln5e1oaJKNM6BUg</td>\n",
       "      <td>[Fast Food, Sandwiches, Restaurants]</td>\n",
       "      <td>Subway</td>\n",
       "      <td>2.5</td>\n",
       "    </tr>\n",
       "    <tr>\n",
       "      <th>246</th>\n",
       "      <td>-jKBFjNTbiafSdunQy6dlQ</td>\n",
       "      <td>[Restaurants, Buffets]</td>\n",
       "      <td>Mandarin Super Buffet</td>\n",
       "      <td>2.5</td>\n",
       "    </tr>\n",
       "    <tr>\n",
       "      <th>314</th>\n",
       "      <td>m4_qthbDlYptibVQ1SCvNA</td>\n",
       "      <td>[Juice Bars &amp; Smoothies, Gluten-Free, Restaura...</td>\n",
       "      <td>Smoothie King</td>\n",
       "      <td>3.0</td>\n",
       "    </tr>\n",
       "    <tr>\n",
       "      <th>339</th>\n",
       "      <td>C0KQ0fyGfDvKhw1FBgh1fg</td>\n",
       "      <td>[Nightlife, American (Traditional), Breakfast ...</td>\n",
       "      <td>Barfly</td>\n",
       "      <td>4.0</td>\n",
       "    </tr>\n",
       "    <tr>\n",
       "      <th>519</th>\n",
       "      <td>5P7zzVhWvO8nXGPdy7xqhw</td>\n",
       "      <td>[Donuts, Breakfast &amp; Brunch, Restaurants, Food...</td>\n",
       "      <td>LaMar's Donuts &amp; Coffee</td>\n",
       "      <td>4.5</td>\n",
       "    </tr>\n",
       "    <tr>\n",
       "      <th>586</th>\n",
       "      <td>TY7V8x6wm7pwghJtO_31kA</td>\n",
       "      <td>[Fast Food, Restaurants, Burgers]</td>\n",
       "      <td>Burger King</td>\n",
       "      <td>1.0</td>\n",
       "    </tr>\n",
       "  </tbody>\n",
       "</table>\n",
       "</div>"
      ],
      "text/plain": [
       "                business_id  \\\n",
       "33   YPavuOh2XsnRbLfl0DH2lQ   \n",
       "52   F53MSa5SYzO9BG8c_JhskQ   \n",
       "53   hEcn9k6ONd5n2mq0lB2aew   \n",
       "164  Ld2hhA3q3cdkptwS1fsYEg   \n",
       "199  a48i_DFln5e1oaJKNM6BUg   \n",
       "246  -jKBFjNTbiafSdunQy6dlQ   \n",
       "314  m4_qthbDlYptibVQ1SCvNA   \n",
       "339  C0KQ0fyGfDvKhw1FBgh1fg   \n",
       "519  5P7zzVhWvO8nXGPdy7xqhw   \n",
       "586  TY7V8x6wm7pwghJtO_31kA   \n",
       "\n",
       "                                            categories  \\\n",
       "33         [Restaurants, Waffles, Southern, Soul Food]   \n",
       "52                           [Vietnamese, Restaurants]   \n",
       "53               [American (Traditional), Restaurants]   \n",
       "164  [Restaurants, Noodles, Sushi Bars, Japanese, S...   \n",
       "199               [Fast Food, Sandwiches, Restaurants]   \n",
       "246                             [Restaurants, Buffets]   \n",
       "314  [Juice Bars & Smoothies, Gluten-Free, Restaura...   \n",
       "339  [Nightlife, American (Traditional), Breakfast ...   \n",
       "519  [Donuts, Breakfast & Brunch, Restaurants, Food...   \n",
       "586                  [Fast Food, Restaurants, Burgers]   \n",
       "\n",
       "                          name  stars  \n",
       "33   Lo-Lo's Chicken & Waffles    4.0  \n",
       "52                    Pho Viet    2.5  \n",
       "53             JB's Restaurant    3.5  \n",
       "164               Yogi's Grill    4.0  \n",
       "199                     Subway    2.5  \n",
       "246      Mandarin Super Buffet    2.5  \n",
       "314              Smoothie King    3.0  \n",
       "339                     Barfly    4.0  \n",
       "519    LaMar's Donuts & Coffee    4.5  \n",
       "586                Burger King    1.0  "
      ]
     },
     "execution_count": 9,
     "metadata": {},
     "output_type": "execute_result"
    }
   ],
   "source": [
    "Ph_data = restaurant_data[restaurant_data['city'] == 'Phoenix'][['business_id', 'categories', 'name', 'stars']]\n",
    "Ph_data.head(10)"
   ]
  },
  {
   "cell_type": "code",
   "execution_count": 10,
   "metadata": {
    "collapsed": false
   },
   "outputs": [
    {
     "data": {
      "text/plain": [
       "business_id    3353\n",
       "categories     3353\n",
       "name           3353\n",
       "stars          3353\n",
       "dtype: int64"
      ]
     },
     "metadata": {},
     "output_type": "display_data"
    },
    {
     "data": {
      "text/plain": [
       "Subway                            71\n",
       "McDonald's                        51\n",
       "Taco Bell                         32\n",
       "Burger King                       32\n",
       "Pizza Hut                         22\n",
       "Domino's Pizza                    22\n",
       "Wendy's                           21\n",
       "Panda Express                     20\n",
       "Jack in the Box                   18\n",
       "Sonic Drive-In                    17\n",
       "Jimmy John's                      16\n",
       "Dairy Queen                       15\n",
       "Chipotle Mexican Grill            15\n",
       "Papa John's Pizza                 15\n",
       "Denny's                           14\n",
       "Filiberto's Mexican Food          13\n",
       "KFC                               12\n",
       "Einstein Bros Bagels              12\n",
       "Del Taco                          11\n",
       "Streets of New York               11\n",
       "Arby's                            11\n",
       "Peter Piper Pizza                 10\n",
       "Julioberto's                       9\n",
       "Five Guys Burgers and Fries        9\n",
       "Wingstop                           9\n",
       "Jersey Mike's Subs                 9\n",
       "Church's Chicken                   9\n",
       "Chick-fil-A                        9\n",
       "Little Caesars Pizza               8\n",
       "Whataburger                        8\n",
       "                                  ..\n",
       "Unwined                            1\n",
       "Fry's                              1\n",
       "Golden Moon Palace Restaurant      1\n",
       "HoneyBaked Ham                     1\n",
       "Charlies Grilled Subs              1\n",
       "Ziggy's Pizzeria Ristorante        1\n",
       "L&L Hawaiian BBQ                   1\n",
       "Krua Thai Cuisine                  1\n",
       "Cisco's Grill                      1\n",
       "Taqueria Castillo                  1\n",
       "Ingo's Tasty Food                  1\n",
       "La Mirage                          1\n",
       "El Horseshoe Restaurant            1\n",
       "Bluewater Grill                    1\n",
       "La Grande Orange Pizzeria          1\n",
       "Ewn's 2                            1\n",
       "Deliciosoraspados                  1\n",
       "Tacos & Tequilas                   1\n",
       "Ya Hala!                           1\n",
       "The Counter Phoenix                1\n",
       "Crave Sandwich Cafe & Catering     1\n",
       "Tortas Hipocampo                   1\n",
       "China Chan Restaurant              1\n",
       "Sunrise Donuts                     1\n",
       "Fox Sports Grill                   1\n",
       "Senor Sushi                        1\n",
       "75th Thai Taste Restaurant         1\n",
       "Sacks Sandwiches                   1\n",
       "Latitude 30                        1\n",
       "Phil the Grill                     1\n",
       "Name: name, dtype: int64"
      ]
     },
     "metadata": {},
     "output_type": "display_data"
    }
   ],
   "source": [
    "display(Ph_data.count())\n",
    "display(Ph_data.name.value_counts())"
   ]
  },
  {
   "cell_type": "code",
   "execution_count": 11,
   "metadata": {
    "collapsed": false
   },
   "outputs": [],
   "source": [
    "pair_data = reviews.merge(Ph_data, on='business_id')"
   ]
  },
  {
   "cell_type": "code",
   "execution_count": 12,
   "metadata": {
    "collapsed": false
   },
   "outputs": [
    {
     "data": {
      "text/html": [
       "<div>\n",
       "<table border=\"1\" class=\"dataframe\">\n",
       "  <thead>\n",
       "    <tr style=\"text-align: right;\">\n",
       "      <th></th>\n",
       "      <th>business_id</th>\n",
       "      <th>stars_x</th>\n",
       "      <th>user_id</th>\n",
       "      <th>categories</th>\n",
       "      <th>name</th>\n",
       "      <th>stars_y</th>\n",
       "    </tr>\n",
       "  </thead>\n",
       "  <tbody>\n",
       "    <tr>\n",
       "      <th>196451</th>\n",
       "      <td>YPavuOh2XsnRbLfl0DH2lQ</td>\n",
       "      <td>5</td>\n",
       "      <td>faaOI6hU64h6SSaF0f11eg</td>\n",
       "      <td>[Restaurants, Waffles, Southern, Soul Food]</td>\n",
       "      <td>Lo-Lo's Chicken &amp; Waffles</td>\n",
       "      <td>4.0</td>\n",
       "    </tr>\n",
       "    <tr>\n",
       "      <th>196452</th>\n",
       "      <td>YPavuOh2XsnRbLfl0DH2lQ</td>\n",
       "      <td>4</td>\n",
       "      <td>wys9Ne2Y9OTH9eG3ov9E8g</td>\n",
       "      <td>[Restaurants, Waffles, Southern, Soul Food]</td>\n",
       "      <td>Lo-Lo's Chicken &amp; Waffles</td>\n",
       "      <td>4.0</td>\n",
       "    </tr>\n",
       "    <tr>\n",
       "      <th>196453</th>\n",
       "      <td>YPavuOh2XsnRbLfl0DH2lQ</td>\n",
       "      <td>5</td>\n",
       "      <td>XCW5pJCDhvlW76XTSUEkIg</td>\n",
       "      <td>[Restaurants, Waffles, Southern, Soul Food]</td>\n",
       "      <td>Lo-Lo's Chicken &amp; Waffles</td>\n",
       "      <td>4.0</td>\n",
       "    </tr>\n",
       "    <tr>\n",
       "      <th>196454</th>\n",
       "      <td>YPavuOh2XsnRbLfl0DH2lQ</td>\n",
       "      <td>1</td>\n",
       "      <td>HeoZHp1p1C4vHh4OO7ia9A</td>\n",
       "      <td>[Restaurants, Waffles, Southern, Soul Food]</td>\n",
       "      <td>Lo-Lo's Chicken &amp; Waffles</td>\n",
       "      <td>4.0</td>\n",
       "    </tr>\n",
       "    <tr>\n",
       "      <th>196455</th>\n",
       "      <td>YPavuOh2XsnRbLfl0DH2lQ</td>\n",
       "      <td>4</td>\n",
       "      <td>4bvM9P9wJnLKXn9ei-dK-A</td>\n",
       "      <td>[Restaurants, Waffles, Southern, Soul Food]</td>\n",
       "      <td>Lo-Lo's Chicken &amp; Waffles</td>\n",
       "      <td>4.0</td>\n",
       "    </tr>\n",
       "    <tr>\n",
       "      <th>196456</th>\n",
       "      <td>YPavuOh2XsnRbLfl0DH2lQ</td>\n",
       "      <td>5</td>\n",
       "      <td>oukv9rqaAXfso5cbx9_BLA</td>\n",
       "      <td>[Restaurants, Waffles, Southern, Soul Food]</td>\n",
       "      <td>Lo-Lo's Chicken &amp; Waffles</td>\n",
       "      <td>4.0</td>\n",
       "    </tr>\n",
       "    <tr>\n",
       "      <th>196457</th>\n",
       "      <td>YPavuOh2XsnRbLfl0DH2lQ</td>\n",
       "      <td>4</td>\n",
       "      <td>v-krlEPxAHy72gXoeDKkjg</td>\n",
       "      <td>[Restaurants, Waffles, Southern, Soul Food]</td>\n",
       "      <td>Lo-Lo's Chicken &amp; Waffles</td>\n",
       "      <td>4.0</td>\n",
       "    </tr>\n",
       "    <tr>\n",
       "      <th>196458</th>\n",
       "      <td>YPavuOh2XsnRbLfl0DH2lQ</td>\n",
       "      <td>5</td>\n",
       "      <td>ZLXZuq6C7zix4OD2nzUi9g</td>\n",
       "      <td>[Restaurants, Waffles, Southern, Soul Food]</td>\n",
       "      <td>Lo-Lo's Chicken &amp; Waffles</td>\n",
       "      <td>4.0</td>\n",
       "    </tr>\n",
       "    <tr>\n",
       "      <th>196459</th>\n",
       "      <td>YPavuOh2XsnRbLfl0DH2lQ</td>\n",
       "      <td>5</td>\n",
       "      <td>3HXoaDssBAhQKk5pe8EiMg</td>\n",
       "      <td>[Restaurants, Waffles, Southern, Soul Food]</td>\n",
       "      <td>Lo-Lo's Chicken &amp; Waffles</td>\n",
       "      <td>4.0</td>\n",
       "    </tr>\n",
       "    <tr>\n",
       "      <th>196460</th>\n",
       "      <td>YPavuOh2XsnRbLfl0DH2lQ</td>\n",
       "      <td>5</td>\n",
       "      <td>syTMbpKM8uT26m9WkqmRvg</td>\n",
       "      <td>[Restaurants, Waffles, Southern, Soul Food]</td>\n",
       "      <td>Lo-Lo's Chicken &amp; Waffles</td>\n",
       "      <td>4.0</td>\n",
       "    </tr>\n",
       "    <tr>\n",
       "      <th>196461</th>\n",
       "      <td>YPavuOh2XsnRbLfl0DH2lQ</td>\n",
       "      <td>2</td>\n",
       "      <td>cqDBxzGz-fcN9A7IA-7Wdg</td>\n",
       "      <td>[Restaurants, Waffles, Southern, Soul Food]</td>\n",
       "      <td>Lo-Lo's Chicken &amp; Waffles</td>\n",
       "      <td>4.0</td>\n",
       "    </tr>\n",
       "    <tr>\n",
       "      <th>196462</th>\n",
       "      <td>YPavuOh2XsnRbLfl0DH2lQ</td>\n",
       "      <td>1</td>\n",
       "      <td>XYc4vZtG4wvhCUOIVaO22g</td>\n",
       "      <td>[Restaurants, Waffles, Southern, Soul Food]</td>\n",
       "      <td>Lo-Lo's Chicken &amp; Waffles</td>\n",
       "      <td>4.0</td>\n",
       "    </tr>\n",
       "    <tr>\n",
       "      <th>196463</th>\n",
       "      <td>YPavuOh2XsnRbLfl0DH2lQ</td>\n",
       "      <td>5</td>\n",
       "      <td>Y6CBSEOwjbIsWEtZe3SqaA</td>\n",
       "      <td>[Restaurants, Waffles, Southern, Soul Food]</td>\n",
       "      <td>Lo-Lo's Chicken &amp; Waffles</td>\n",
       "      <td>4.0</td>\n",
       "    </tr>\n",
       "    <tr>\n",
       "      <th>196464</th>\n",
       "      <td>YPavuOh2XsnRbLfl0DH2lQ</td>\n",
       "      <td>4</td>\n",
       "      <td>RO6ggp6Dq_SIM481WoehJQ</td>\n",
       "      <td>[Restaurants, Waffles, Southern, Soul Food]</td>\n",
       "      <td>Lo-Lo's Chicken &amp; Waffles</td>\n",
       "      <td>4.0</td>\n",
       "    </tr>\n",
       "    <tr>\n",
       "      <th>196465</th>\n",
       "      <td>YPavuOh2XsnRbLfl0DH2lQ</td>\n",
       "      <td>5</td>\n",
       "      <td>AOj7L3Nvyk1uoUTmlPlsng</td>\n",
       "      <td>[Restaurants, Waffles, Southern, Soul Food]</td>\n",
       "      <td>Lo-Lo's Chicken &amp; Waffles</td>\n",
       "      <td>4.0</td>\n",
       "    </tr>\n",
       "    <tr>\n",
       "      <th>196466</th>\n",
       "      <td>YPavuOh2XsnRbLfl0DH2lQ</td>\n",
       "      <td>3</td>\n",
       "      <td>_DOjNzz_Q2AqEMD07kj3Rg</td>\n",
       "      <td>[Restaurants, Waffles, Southern, Soul Food]</td>\n",
       "      <td>Lo-Lo's Chicken &amp; Waffles</td>\n",
       "      <td>4.0</td>\n",
       "    </tr>\n",
       "    <tr>\n",
       "      <th>196467</th>\n",
       "      <td>YPavuOh2XsnRbLfl0DH2lQ</td>\n",
       "      <td>5</td>\n",
       "      <td>vPOkQJKahhR13LQ2ElSFGg</td>\n",
       "      <td>[Restaurants, Waffles, Southern, Soul Food]</td>\n",
       "      <td>Lo-Lo's Chicken &amp; Waffles</td>\n",
       "      <td>4.0</td>\n",
       "    </tr>\n",
       "    <tr>\n",
       "      <th>196468</th>\n",
       "      <td>YPavuOh2XsnRbLfl0DH2lQ</td>\n",
       "      <td>5</td>\n",
       "      <td>-XBD5mejXfswrg1lzSJk6Q</td>\n",
       "      <td>[Restaurants, Waffles, Southern, Soul Food]</td>\n",
       "      <td>Lo-Lo's Chicken &amp; Waffles</td>\n",
       "      <td>4.0</td>\n",
       "    </tr>\n",
       "    <tr>\n",
       "      <th>196469</th>\n",
       "      <td>YPavuOh2XsnRbLfl0DH2lQ</td>\n",
       "      <td>1</td>\n",
       "      <td>_mBvtjjXYZfBMg0tmqeRBQ</td>\n",
       "      <td>[Restaurants, Waffles, Southern, Soul Food]</td>\n",
       "      <td>Lo-Lo's Chicken &amp; Waffles</td>\n",
       "      <td>4.0</td>\n",
       "    </tr>\n",
       "    <tr>\n",
       "      <th>196470</th>\n",
       "      <td>YPavuOh2XsnRbLfl0DH2lQ</td>\n",
       "      <td>2</td>\n",
       "      <td>fLfxo5b4X_HoY_UipZ0heQ</td>\n",
       "      <td>[Restaurants, Waffles, Southern, Soul Food]</td>\n",
       "      <td>Lo-Lo's Chicken &amp; Waffles</td>\n",
       "      <td>4.0</td>\n",
       "    </tr>\n",
       "    <tr>\n",
       "      <th>196471</th>\n",
       "      <td>YPavuOh2XsnRbLfl0DH2lQ</td>\n",
       "      <td>3</td>\n",
       "      <td>NXcXqD7VCZSB7JDRE_UcNg</td>\n",
       "      <td>[Restaurants, Waffles, Southern, Soul Food]</td>\n",
       "      <td>Lo-Lo's Chicken &amp; Waffles</td>\n",
       "      <td>4.0</td>\n",
       "    </tr>\n",
       "    <tr>\n",
       "      <th>196472</th>\n",
       "      <td>YPavuOh2XsnRbLfl0DH2lQ</td>\n",
       "      <td>5</td>\n",
       "      <td>2-S9TTXRk4nLUq-Kwcnzdw</td>\n",
       "      <td>[Restaurants, Waffles, Southern, Soul Food]</td>\n",
       "      <td>Lo-Lo's Chicken &amp; Waffles</td>\n",
       "      <td>4.0</td>\n",
       "    </tr>\n",
       "    <tr>\n",
       "      <th>196473</th>\n",
       "      <td>YPavuOh2XsnRbLfl0DH2lQ</td>\n",
       "      <td>5</td>\n",
       "      <td>_OY-EeTTnG5SjfeWQz6Www</td>\n",
       "      <td>[Restaurants, Waffles, Southern, Soul Food]</td>\n",
       "      <td>Lo-Lo's Chicken &amp; Waffles</td>\n",
       "      <td>4.0</td>\n",
       "    </tr>\n",
       "    <tr>\n",
       "      <th>196474</th>\n",
       "      <td>YPavuOh2XsnRbLfl0DH2lQ</td>\n",
       "      <td>5</td>\n",
       "      <td>YmM0mtMKcDP0aT5ElM-WAg</td>\n",
       "      <td>[Restaurants, Waffles, Southern, Soul Food]</td>\n",
       "      <td>Lo-Lo's Chicken &amp; Waffles</td>\n",
       "      <td>4.0</td>\n",
       "    </tr>\n",
       "    <tr>\n",
       "      <th>196475</th>\n",
       "      <td>YPavuOh2XsnRbLfl0DH2lQ</td>\n",
       "      <td>5</td>\n",
       "      <td>A_-pBM0TBuOHv4yQpcNWpg</td>\n",
       "      <td>[Restaurants, Waffles, Southern, Soul Food]</td>\n",
       "      <td>Lo-Lo's Chicken &amp; Waffles</td>\n",
       "      <td>4.0</td>\n",
       "    </tr>\n",
       "    <tr>\n",
       "      <th>196476</th>\n",
       "      <td>YPavuOh2XsnRbLfl0DH2lQ</td>\n",
       "      <td>1</td>\n",
       "      <td>1HR6SbI-pmApjrbuFkQ1RQ</td>\n",
       "      <td>[Restaurants, Waffles, Southern, Soul Food]</td>\n",
       "      <td>Lo-Lo's Chicken &amp; Waffles</td>\n",
       "      <td>4.0</td>\n",
       "    </tr>\n",
       "    <tr>\n",
       "      <th>196477</th>\n",
       "      <td>YPavuOh2XsnRbLfl0DH2lQ</td>\n",
       "      <td>3</td>\n",
       "      <td>SAqyye4BwTizzXcWnDvrwQ</td>\n",
       "      <td>[Restaurants, Waffles, Southern, Soul Food]</td>\n",
       "      <td>Lo-Lo's Chicken &amp; Waffles</td>\n",
       "      <td>4.0</td>\n",
       "    </tr>\n",
       "    <tr>\n",
       "      <th>196478</th>\n",
       "      <td>YPavuOh2XsnRbLfl0DH2lQ</td>\n",
       "      <td>5</td>\n",
       "      <td>aBfKVOKbDF9ttXiNFKByJw</td>\n",
       "      <td>[Restaurants, Waffles, Southern, Soul Food]</td>\n",
       "      <td>Lo-Lo's Chicken &amp; Waffles</td>\n",
       "      <td>4.0</td>\n",
       "    </tr>\n",
       "    <tr>\n",
       "      <th>196479</th>\n",
       "      <td>YPavuOh2XsnRbLfl0DH2lQ</td>\n",
       "      <td>4</td>\n",
       "      <td>PaUcJDgJX3pEbCIFX0R5fw</td>\n",
       "      <td>[Restaurants, Waffles, Southern, Soul Food]</td>\n",
       "      <td>Lo-Lo's Chicken &amp; Waffles</td>\n",
       "      <td>4.0</td>\n",
       "    </tr>\n",
       "    <tr>\n",
       "      <th>196480</th>\n",
       "      <td>YPavuOh2XsnRbLfl0DH2lQ</td>\n",
       "      <td>3</td>\n",
       "      <td>XHOyuaYEhETRu6r9Bzbvvw</td>\n",
       "      <td>[Restaurants, Waffles, Southern, Soul Food]</td>\n",
       "      <td>Lo-Lo's Chicken &amp; Waffles</td>\n",
       "      <td>4.0</td>\n",
       "    </tr>\n",
       "    <tr>\n",
       "      <th>...</th>\n",
       "      <td>...</td>\n",
       "      <td>...</td>\n",
       "      <td>...</td>\n",
       "      <td>...</td>\n",
       "      <td>...</td>\n",
       "      <td>...</td>\n",
       "    </tr>\n",
       "    <tr>\n",
       "      <th>197697</th>\n",
       "      <td>YPavuOh2XsnRbLfl0DH2lQ</td>\n",
       "      <td>1</td>\n",
       "      <td>rIs7is2GtF-1u-aMtpyAUQ</td>\n",
       "      <td>[Restaurants, Waffles, Southern, Soul Food]</td>\n",
       "      <td>Lo-Lo's Chicken &amp; Waffles</td>\n",
       "      <td>4.0</td>\n",
       "    </tr>\n",
       "    <tr>\n",
       "      <th>197698</th>\n",
       "      <td>YPavuOh2XsnRbLfl0DH2lQ</td>\n",
       "      <td>4</td>\n",
       "      <td>1SU5xIA58bzMAY5qMCCxhA</td>\n",
       "      <td>[Restaurants, Waffles, Southern, Soul Food]</td>\n",
       "      <td>Lo-Lo's Chicken &amp; Waffles</td>\n",
       "      <td>4.0</td>\n",
       "    </tr>\n",
       "    <tr>\n",
       "      <th>197699</th>\n",
       "      <td>YPavuOh2XsnRbLfl0DH2lQ</td>\n",
       "      <td>3</td>\n",
       "      <td>oFU9ITr5I5uIzxbY-q2uqA</td>\n",
       "      <td>[Restaurants, Waffles, Southern, Soul Food]</td>\n",
       "      <td>Lo-Lo's Chicken &amp; Waffles</td>\n",
       "      <td>4.0</td>\n",
       "    </tr>\n",
       "    <tr>\n",
       "      <th>197700</th>\n",
       "      <td>YPavuOh2XsnRbLfl0DH2lQ</td>\n",
       "      <td>5</td>\n",
       "      <td>Zl2GRJ_Mv4hfRMEPEE1lfA</td>\n",
       "      <td>[Restaurants, Waffles, Southern, Soul Food]</td>\n",
       "      <td>Lo-Lo's Chicken &amp; Waffles</td>\n",
       "      <td>4.0</td>\n",
       "    </tr>\n",
       "    <tr>\n",
       "      <th>197701</th>\n",
       "      <td>YPavuOh2XsnRbLfl0DH2lQ</td>\n",
       "      <td>5</td>\n",
       "      <td>gtOr0JcxR8f3PMR4PVVdVA</td>\n",
       "      <td>[Restaurants, Waffles, Southern, Soul Food]</td>\n",
       "      <td>Lo-Lo's Chicken &amp; Waffles</td>\n",
       "      <td>4.0</td>\n",
       "    </tr>\n",
       "    <tr>\n",
       "      <th>197702</th>\n",
       "      <td>YPavuOh2XsnRbLfl0DH2lQ</td>\n",
       "      <td>2</td>\n",
       "      <td>TogquJj-U4eykYHNGfbaeg</td>\n",
       "      <td>[Restaurants, Waffles, Southern, Soul Food]</td>\n",
       "      <td>Lo-Lo's Chicken &amp; Waffles</td>\n",
       "      <td>4.0</td>\n",
       "    </tr>\n",
       "    <tr>\n",
       "      <th>197703</th>\n",
       "      <td>YPavuOh2XsnRbLfl0DH2lQ</td>\n",
       "      <td>2</td>\n",
       "      <td>2DNy1WG-VctzhEsr0XfhAw</td>\n",
       "      <td>[Restaurants, Waffles, Southern, Soul Food]</td>\n",
       "      <td>Lo-Lo's Chicken &amp; Waffles</td>\n",
       "      <td>4.0</td>\n",
       "    </tr>\n",
       "    <tr>\n",
       "      <th>197704</th>\n",
       "      <td>YPavuOh2XsnRbLfl0DH2lQ</td>\n",
       "      <td>4</td>\n",
       "      <td>-pmydhVzEe0CaWeHoUItdg</td>\n",
       "      <td>[Restaurants, Waffles, Southern, Soul Food]</td>\n",
       "      <td>Lo-Lo's Chicken &amp; Waffles</td>\n",
       "      <td>4.0</td>\n",
       "    </tr>\n",
       "    <tr>\n",
       "      <th>197705</th>\n",
       "      <td>YPavuOh2XsnRbLfl0DH2lQ</td>\n",
       "      <td>4</td>\n",
       "      <td>mJFR_rTldo8u5KYTh6h5Kg</td>\n",
       "      <td>[Restaurants, Waffles, Southern, Soul Food]</td>\n",
       "      <td>Lo-Lo's Chicken &amp; Waffles</td>\n",
       "      <td>4.0</td>\n",
       "    </tr>\n",
       "    <tr>\n",
       "      <th>197706</th>\n",
       "      <td>YPavuOh2XsnRbLfl0DH2lQ</td>\n",
       "      <td>4</td>\n",
       "      <td>pEZfNBgjiuICtafg2a7xtQ</td>\n",
       "      <td>[Restaurants, Waffles, Southern, Soul Food]</td>\n",
       "      <td>Lo-Lo's Chicken &amp; Waffles</td>\n",
       "      <td>4.0</td>\n",
       "    </tr>\n",
       "    <tr>\n",
       "      <th>197707</th>\n",
       "      <td>YPavuOh2XsnRbLfl0DH2lQ</td>\n",
       "      <td>4</td>\n",
       "      <td>vja34EZOexjgWkwmvKtD-g</td>\n",
       "      <td>[Restaurants, Waffles, Southern, Soul Food]</td>\n",
       "      <td>Lo-Lo's Chicken &amp; Waffles</td>\n",
       "      <td>4.0</td>\n",
       "    </tr>\n",
       "    <tr>\n",
       "      <th>197708</th>\n",
       "      <td>YPavuOh2XsnRbLfl0DH2lQ</td>\n",
       "      <td>1</td>\n",
       "      <td>HHAr2VbBoR_0VO32eH5wwA</td>\n",
       "      <td>[Restaurants, Waffles, Southern, Soul Food]</td>\n",
       "      <td>Lo-Lo's Chicken &amp; Waffles</td>\n",
       "      <td>4.0</td>\n",
       "    </tr>\n",
       "    <tr>\n",
       "      <th>197709</th>\n",
       "      <td>YPavuOh2XsnRbLfl0DH2lQ</td>\n",
       "      <td>5</td>\n",
       "      <td>j8EHmuebLe8avjeFqrL0eg</td>\n",
       "      <td>[Restaurants, Waffles, Southern, Soul Food]</td>\n",
       "      <td>Lo-Lo's Chicken &amp; Waffles</td>\n",
       "      <td>4.0</td>\n",
       "    </tr>\n",
       "    <tr>\n",
       "      <th>197710</th>\n",
       "      <td>YPavuOh2XsnRbLfl0DH2lQ</td>\n",
       "      <td>5</td>\n",
       "      <td>r_fXGE-IfzWBxSamkmY1rw</td>\n",
       "      <td>[Restaurants, Waffles, Southern, Soul Food]</td>\n",
       "      <td>Lo-Lo's Chicken &amp; Waffles</td>\n",
       "      <td>4.0</td>\n",
       "    </tr>\n",
       "    <tr>\n",
       "      <th>197711</th>\n",
       "      <td>YPavuOh2XsnRbLfl0DH2lQ</td>\n",
       "      <td>4</td>\n",
       "      <td>mPr0BE-rHjJk4dxygpKsxA</td>\n",
       "      <td>[Restaurants, Waffles, Southern, Soul Food]</td>\n",
       "      <td>Lo-Lo's Chicken &amp; Waffles</td>\n",
       "      <td>4.0</td>\n",
       "    </tr>\n",
       "    <tr>\n",
       "      <th>197712</th>\n",
       "      <td>YPavuOh2XsnRbLfl0DH2lQ</td>\n",
       "      <td>5</td>\n",
       "      <td>j5ezF5mEGpnDwdTmAHci7Q</td>\n",
       "      <td>[Restaurants, Waffles, Southern, Soul Food]</td>\n",
       "      <td>Lo-Lo's Chicken &amp; Waffles</td>\n",
       "      <td>4.0</td>\n",
       "    </tr>\n",
       "    <tr>\n",
       "      <th>197713</th>\n",
       "      <td>YPavuOh2XsnRbLfl0DH2lQ</td>\n",
       "      <td>5</td>\n",
       "      <td>C6h8OyGRm0atkXyC9I2Z4Q</td>\n",
       "      <td>[Restaurants, Waffles, Southern, Soul Food]</td>\n",
       "      <td>Lo-Lo's Chicken &amp; Waffles</td>\n",
       "      <td>4.0</td>\n",
       "    </tr>\n",
       "    <tr>\n",
       "      <th>197714</th>\n",
       "      <td>YPavuOh2XsnRbLfl0DH2lQ</td>\n",
       "      <td>4</td>\n",
       "      <td>TQ9A1LVp6z-fIc494RsLDQ</td>\n",
       "      <td>[Restaurants, Waffles, Southern, Soul Food]</td>\n",
       "      <td>Lo-Lo's Chicken &amp; Waffles</td>\n",
       "      <td>4.0</td>\n",
       "    </tr>\n",
       "    <tr>\n",
       "      <th>197715</th>\n",
       "      <td>YPavuOh2XsnRbLfl0DH2lQ</td>\n",
       "      <td>4</td>\n",
       "      <td>NeJLklFT4Ohig0uW9719bw</td>\n",
       "      <td>[Restaurants, Waffles, Southern, Soul Food]</td>\n",
       "      <td>Lo-Lo's Chicken &amp; Waffles</td>\n",
       "      <td>4.0</td>\n",
       "    </tr>\n",
       "    <tr>\n",
       "      <th>197716</th>\n",
       "      <td>YPavuOh2XsnRbLfl0DH2lQ</td>\n",
       "      <td>5</td>\n",
       "      <td>jkM_jFcUL_nxMlRwFZpVnw</td>\n",
       "      <td>[Restaurants, Waffles, Southern, Soul Food]</td>\n",
       "      <td>Lo-Lo's Chicken &amp; Waffles</td>\n",
       "      <td>4.0</td>\n",
       "    </tr>\n",
       "    <tr>\n",
       "      <th>197717</th>\n",
       "      <td>YPavuOh2XsnRbLfl0DH2lQ</td>\n",
       "      <td>2</td>\n",
       "      <td>0myzaVzkM8WYbLt0__w-qA</td>\n",
       "      <td>[Restaurants, Waffles, Southern, Soul Food]</td>\n",
       "      <td>Lo-Lo's Chicken &amp; Waffles</td>\n",
       "      <td>4.0</td>\n",
       "    </tr>\n",
       "    <tr>\n",
       "      <th>197718</th>\n",
       "      <td>YPavuOh2XsnRbLfl0DH2lQ</td>\n",
       "      <td>4</td>\n",
       "      <td>E3ycLCg-zKUwYRvvVmXvQg</td>\n",
       "      <td>[Restaurants, Waffles, Southern, Soul Food]</td>\n",
       "      <td>Lo-Lo's Chicken &amp; Waffles</td>\n",
       "      <td>4.0</td>\n",
       "    </tr>\n",
       "    <tr>\n",
       "      <th>197719</th>\n",
       "      <td>YPavuOh2XsnRbLfl0DH2lQ</td>\n",
       "      <td>1</td>\n",
       "      <td>kxtPhnNVN5GQELVrcB6jeg</td>\n",
       "      <td>[Restaurants, Waffles, Southern, Soul Food]</td>\n",
       "      <td>Lo-Lo's Chicken &amp; Waffles</td>\n",
       "      <td>4.0</td>\n",
       "    </tr>\n",
       "    <tr>\n",
       "      <th>197720</th>\n",
       "      <td>YPavuOh2XsnRbLfl0DH2lQ</td>\n",
       "      <td>5</td>\n",
       "      <td>fwd_rUQ9aFjlPw2RwcKCag</td>\n",
       "      <td>[Restaurants, Waffles, Southern, Soul Food]</td>\n",
       "      <td>Lo-Lo's Chicken &amp; Waffles</td>\n",
       "      <td>4.0</td>\n",
       "    </tr>\n",
       "    <tr>\n",
       "      <th>197721</th>\n",
       "      <td>YPavuOh2XsnRbLfl0DH2lQ</td>\n",
       "      <td>5</td>\n",
       "      <td>tJ1qdNdG0tZywbgH9uw9qw</td>\n",
       "      <td>[Restaurants, Waffles, Southern, Soul Food]</td>\n",
       "      <td>Lo-Lo's Chicken &amp; Waffles</td>\n",
       "      <td>4.0</td>\n",
       "    </tr>\n",
       "    <tr>\n",
       "      <th>197722</th>\n",
       "      <td>YPavuOh2XsnRbLfl0DH2lQ</td>\n",
       "      <td>5</td>\n",
       "      <td>G6bkueZBowPPG5kygyRkLA</td>\n",
       "      <td>[Restaurants, Waffles, Southern, Soul Food]</td>\n",
       "      <td>Lo-Lo's Chicken &amp; Waffles</td>\n",
       "      <td>4.0</td>\n",
       "    </tr>\n",
       "    <tr>\n",
       "      <th>197723</th>\n",
       "      <td>YPavuOh2XsnRbLfl0DH2lQ</td>\n",
       "      <td>4</td>\n",
       "      <td>wJgtf18VKKZq9A6ZQUybQw</td>\n",
       "      <td>[Restaurants, Waffles, Southern, Soul Food]</td>\n",
       "      <td>Lo-Lo's Chicken &amp; Waffles</td>\n",
       "      <td>4.0</td>\n",
       "    </tr>\n",
       "    <tr>\n",
       "      <th>197724</th>\n",
       "      <td>YPavuOh2XsnRbLfl0DH2lQ</td>\n",
       "      <td>5</td>\n",
       "      <td>Ymyqin4HyeY5tpTftXwyUQ</td>\n",
       "      <td>[Restaurants, Waffles, Southern, Soul Food]</td>\n",
       "      <td>Lo-Lo's Chicken &amp; Waffles</td>\n",
       "      <td>4.0</td>\n",
       "    </tr>\n",
       "    <tr>\n",
       "      <th>197725</th>\n",
       "      <td>YPavuOh2XsnRbLfl0DH2lQ</td>\n",
       "      <td>4</td>\n",
       "      <td>sjgvugetpJ_5cbzi8z1iYg</td>\n",
       "      <td>[Restaurants, Waffles, Southern, Soul Food]</td>\n",
       "      <td>Lo-Lo's Chicken &amp; Waffles</td>\n",
       "      <td>4.0</td>\n",
       "    </tr>\n",
       "    <tr>\n",
       "      <th>197726</th>\n",
       "      <td>YPavuOh2XsnRbLfl0DH2lQ</td>\n",
       "      <td>5</td>\n",
       "      <td>m-g1t6HXtcOu_DgQhAXjEw</td>\n",
       "      <td>[Restaurants, Waffles, Southern, Soul Food]</td>\n",
       "      <td>Lo-Lo's Chicken &amp; Waffles</td>\n",
       "      <td>4.0</td>\n",
       "    </tr>\n",
       "  </tbody>\n",
       "</table>\n",
       "<p>1276 rows × 6 columns</p>\n",
       "</div>"
      ],
      "text/plain": [
       "                   business_id  stars_x                 user_id  \\\n",
       "196451  YPavuOh2XsnRbLfl0DH2lQ        5  faaOI6hU64h6SSaF0f11eg   \n",
       "196452  YPavuOh2XsnRbLfl0DH2lQ        4  wys9Ne2Y9OTH9eG3ov9E8g   \n",
       "196453  YPavuOh2XsnRbLfl0DH2lQ        5  XCW5pJCDhvlW76XTSUEkIg   \n",
       "196454  YPavuOh2XsnRbLfl0DH2lQ        1  HeoZHp1p1C4vHh4OO7ia9A   \n",
       "196455  YPavuOh2XsnRbLfl0DH2lQ        4  4bvM9P9wJnLKXn9ei-dK-A   \n",
       "196456  YPavuOh2XsnRbLfl0DH2lQ        5  oukv9rqaAXfso5cbx9_BLA   \n",
       "196457  YPavuOh2XsnRbLfl0DH2lQ        4  v-krlEPxAHy72gXoeDKkjg   \n",
       "196458  YPavuOh2XsnRbLfl0DH2lQ        5  ZLXZuq6C7zix4OD2nzUi9g   \n",
       "196459  YPavuOh2XsnRbLfl0DH2lQ        5  3HXoaDssBAhQKk5pe8EiMg   \n",
       "196460  YPavuOh2XsnRbLfl0DH2lQ        5  syTMbpKM8uT26m9WkqmRvg   \n",
       "196461  YPavuOh2XsnRbLfl0DH2lQ        2  cqDBxzGz-fcN9A7IA-7Wdg   \n",
       "196462  YPavuOh2XsnRbLfl0DH2lQ        1  XYc4vZtG4wvhCUOIVaO22g   \n",
       "196463  YPavuOh2XsnRbLfl0DH2lQ        5  Y6CBSEOwjbIsWEtZe3SqaA   \n",
       "196464  YPavuOh2XsnRbLfl0DH2lQ        4  RO6ggp6Dq_SIM481WoehJQ   \n",
       "196465  YPavuOh2XsnRbLfl0DH2lQ        5  AOj7L3Nvyk1uoUTmlPlsng   \n",
       "196466  YPavuOh2XsnRbLfl0DH2lQ        3  _DOjNzz_Q2AqEMD07kj3Rg   \n",
       "196467  YPavuOh2XsnRbLfl0DH2lQ        5  vPOkQJKahhR13LQ2ElSFGg   \n",
       "196468  YPavuOh2XsnRbLfl0DH2lQ        5  -XBD5mejXfswrg1lzSJk6Q   \n",
       "196469  YPavuOh2XsnRbLfl0DH2lQ        1  _mBvtjjXYZfBMg0tmqeRBQ   \n",
       "196470  YPavuOh2XsnRbLfl0DH2lQ        2  fLfxo5b4X_HoY_UipZ0heQ   \n",
       "196471  YPavuOh2XsnRbLfl0DH2lQ        3  NXcXqD7VCZSB7JDRE_UcNg   \n",
       "196472  YPavuOh2XsnRbLfl0DH2lQ        5  2-S9TTXRk4nLUq-Kwcnzdw   \n",
       "196473  YPavuOh2XsnRbLfl0DH2lQ        5  _OY-EeTTnG5SjfeWQz6Www   \n",
       "196474  YPavuOh2XsnRbLfl0DH2lQ        5  YmM0mtMKcDP0aT5ElM-WAg   \n",
       "196475  YPavuOh2XsnRbLfl0DH2lQ        5  A_-pBM0TBuOHv4yQpcNWpg   \n",
       "196476  YPavuOh2XsnRbLfl0DH2lQ        1  1HR6SbI-pmApjrbuFkQ1RQ   \n",
       "196477  YPavuOh2XsnRbLfl0DH2lQ        3  SAqyye4BwTizzXcWnDvrwQ   \n",
       "196478  YPavuOh2XsnRbLfl0DH2lQ        5  aBfKVOKbDF9ttXiNFKByJw   \n",
       "196479  YPavuOh2XsnRbLfl0DH2lQ        4  PaUcJDgJX3pEbCIFX0R5fw   \n",
       "196480  YPavuOh2XsnRbLfl0DH2lQ        3  XHOyuaYEhETRu6r9Bzbvvw   \n",
       "...                        ...      ...                     ...   \n",
       "197697  YPavuOh2XsnRbLfl0DH2lQ        1  rIs7is2GtF-1u-aMtpyAUQ   \n",
       "197698  YPavuOh2XsnRbLfl0DH2lQ        4  1SU5xIA58bzMAY5qMCCxhA   \n",
       "197699  YPavuOh2XsnRbLfl0DH2lQ        3  oFU9ITr5I5uIzxbY-q2uqA   \n",
       "197700  YPavuOh2XsnRbLfl0DH2lQ        5  Zl2GRJ_Mv4hfRMEPEE1lfA   \n",
       "197701  YPavuOh2XsnRbLfl0DH2lQ        5  gtOr0JcxR8f3PMR4PVVdVA   \n",
       "197702  YPavuOh2XsnRbLfl0DH2lQ        2  TogquJj-U4eykYHNGfbaeg   \n",
       "197703  YPavuOh2XsnRbLfl0DH2lQ        2  2DNy1WG-VctzhEsr0XfhAw   \n",
       "197704  YPavuOh2XsnRbLfl0DH2lQ        4  -pmydhVzEe0CaWeHoUItdg   \n",
       "197705  YPavuOh2XsnRbLfl0DH2lQ        4  mJFR_rTldo8u5KYTh6h5Kg   \n",
       "197706  YPavuOh2XsnRbLfl0DH2lQ        4  pEZfNBgjiuICtafg2a7xtQ   \n",
       "197707  YPavuOh2XsnRbLfl0DH2lQ        4  vja34EZOexjgWkwmvKtD-g   \n",
       "197708  YPavuOh2XsnRbLfl0DH2lQ        1  HHAr2VbBoR_0VO32eH5wwA   \n",
       "197709  YPavuOh2XsnRbLfl0DH2lQ        5  j8EHmuebLe8avjeFqrL0eg   \n",
       "197710  YPavuOh2XsnRbLfl0DH2lQ        5  r_fXGE-IfzWBxSamkmY1rw   \n",
       "197711  YPavuOh2XsnRbLfl0DH2lQ        4  mPr0BE-rHjJk4dxygpKsxA   \n",
       "197712  YPavuOh2XsnRbLfl0DH2lQ        5  j5ezF5mEGpnDwdTmAHci7Q   \n",
       "197713  YPavuOh2XsnRbLfl0DH2lQ        5  C6h8OyGRm0atkXyC9I2Z4Q   \n",
       "197714  YPavuOh2XsnRbLfl0DH2lQ        4  TQ9A1LVp6z-fIc494RsLDQ   \n",
       "197715  YPavuOh2XsnRbLfl0DH2lQ        4  NeJLklFT4Ohig0uW9719bw   \n",
       "197716  YPavuOh2XsnRbLfl0DH2lQ        5  jkM_jFcUL_nxMlRwFZpVnw   \n",
       "197717  YPavuOh2XsnRbLfl0DH2lQ        2  0myzaVzkM8WYbLt0__w-qA   \n",
       "197718  YPavuOh2XsnRbLfl0DH2lQ        4  E3ycLCg-zKUwYRvvVmXvQg   \n",
       "197719  YPavuOh2XsnRbLfl0DH2lQ        1  kxtPhnNVN5GQELVrcB6jeg   \n",
       "197720  YPavuOh2XsnRbLfl0DH2lQ        5  fwd_rUQ9aFjlPw2RwcKCag   \n",
       "197721  YPavuOh2XsnRbLfl0DH2lQ        5  tJ1qdNdG0tZywbgH9uw9qw   \n",
       "197722  YPavuOh2XsnRbLfl0DH2lQ        5  G6bkueZBowPPG5kygyRkLA   \n",
       "197723  YPavuOh2XsnRbLfl0DH2lQ        4  wJgtf18VKKZq9A6ZQUybQw   \n",
       "197724  YPavuOh2XsnRbLfl0DH2lQ        5  Ymyqin4HyeY5tpTftXwyUQ   \n",
       "197725  YPavuOh2XsnRbLfl0DH2lQ        4  sjgvugetpJ_5cbzi8z1iYg   \n",
       "197726  YPavuOh2XsnRbLfl0DH2lQ        5  m-g1t6HXtcOu_DgQhAXjEw   \n",
       "\n",
       "                                         categories  \\\n",
       "196451  [Restaurants, Waffles, Southern, Soul Food]   \n",
       "196452  [Restaurants, Waffles, Southern, Soul Food]   \n",
       "196453  [Restaurants, Waffles, Southern, Soul Food]   \n",
       "196454  [Restaurants, Waffles, Southern, Soul Food]   \n",
       "196455  [Restaurants, Waffles, Southern, Soul Food]   \n",
       "196456  [Restaurants, Waffles, Southern, Soul Food]   \n",
       "196457  [Restaurants, Waffles, Southern, Soul Food]   \n",
       "196458  [Restaurants, Waffles, Southern, Soul Food]   \n",
       "196459  [Restaurants, Waffles, Southern, Soul Food]   \n",
       "196460  [Restaurants, Waffles, Southern, Soul Food]   \n",
       "196461  [Restaurants, Waffles, Southern, Soul Food]   \n",
       "196462  [Restaurants, Waffles, Southern, Soul Food]   \n",
       "196463  [Restaurants, Waffles, Southern, Soul Food]   \n",
       "196464  [Restaurants, Waffles, Southern, Soul Food]   \n",
       "196465  [Restaurants, Waffles, Southern, Soul Food]   \n",
       "196466  [Restaurants, Waffles, Southern, Soul Food]   \n",
       "196467  [Restaurants, Waffles, Southern, Soul Food]   \n",
       "196468  [Restaurants, Waffles, Southern, Soul Food]   \n",
       "196469  [Restaurants, Waffles, Southern, Soul Food]   \n",
       "196470  [Restaurants, Waffles, Southern, Soul Food]   \n",
       "196471  [Restaurants, Waffles, Southern, Soul Food]   \n",
       "196472  [Restaurants, Waffles, Southern, Soul Food]   \n",
       "196473  [Restaurants, Waffles, Southern, Soul Food]   \n",
       "196474  [Restaurants, Waffles, Southern, Soul Food]   \n",
       "196475  [Restaurants, Waffles, Southern, Soul Food]   \n",
       "196476  [Restaurants, Waffles, Southern, Soul Food]   \n",
       "196477  [Restaurants, Waffles, Southern, Soul Food]   \n",
       "196478  [Restaurants, Waffles, Southern, Soul Food]   \n",
       "196479  [Restaurants, Waffles, Southern, Soul Food]   \n",
       "196480  [Restaurants, Waffles, Southern, Soul Food]   \n",
       "...                                             ...   \n",
       "197697  [Restaurants, Waffles, Southern, Soul Food]   \n",
       "197698  [Restaurants, Waffles, Southern, Soul Food]   \n",
       "197699  [Restaurants, Waffles, Southern, Soul Food]   \n",
       "197700  [Restaurants, Waffles, Southern, Soul Food]   \n",
       "197701  [Restaurants, Waffles, Southern, Soul Food]   \n",
       "197702  [Restaurants, Waffles, Southern, Soul Food]   \n",
       "197703  [Restaurants, Waffles, Southern, Soul Food]   \n",
       "197704  [Restaurants, Waffles, Southern, Soul Food]   \n",
       "197705  [Restaurants, Waffles, Southern, Soul Food]   \n",
       "197706  [Restaurants, Waffles, Southern, Soul Food]   \n",
       "197707  [Restaurants, Waffles, Southern, Soul Food]   \n",
       "197708  [Restaurants, Waffles, Southern, Soul Food]   \n",
       "197709  [Restaurants, Waffles, Southern, Soul Food]   \n",
       "197710  [Restaurants, Waffles, Southern, Soul Food]   \n",
       "197711  [Restaurants, Waffles, Southern, Soul Food]   \n",
       "197712  [Restaurants, Waffles, Southern, Soul Food]   \n",
       "197713  [Restaurants, Waffles, Southern, Soul Food]   \n",
       "197714  [Restaurants, Waffles, Southern, Soul Food]   \n",
       "197715  [Restaurants, Waffles, Southern, Soul Food]   \n",
       "197716  [Restaurants, Waffles, Southern, Soul Food]   \n",
       "197717  [Restaurants, Waffles, Southern, Soul Food]   \n",
       "197718  [Restaurants, Waffles, Southern, Soul Food]   \n",
       "197719  [Restaurants, Waffles, Southern, Soul Food]   \n",
       "197720  [Restaurants, Waffles, Southern, Soul Food]   \n",
       "197721  [Restaurants, Waffles, Southern, Soul Food]   \n",
       "197722  [Restaurants, Waffles, Southern, Soul Food]   \n",
       "197723  [Restaurants, Waffles, Southern, Soul Food]   \n",
       "197724  [Restaurants, Waffles, Southern, Soul Food]   \n",
       "197725  [Restaurants, Waffles, Southern, Soul Food]   \n",
       "197726  [Restaurants, Waffles, Southern, Soul Food]   \n",
       "\n",
       "                             name  stars_y  \n",
       "196451  Lo-Lo's Chicken & Waffles      4.0  \n",
       "196452  Lo-Lo's Chicken & Waffles      4.0  \n",
       "196453  Lo-Lo's Chicken & Waffles      4.0  \n",
       "196454  Lo-Lo's Chicken & Waffles      4.0  \n",
       "196455  Lo-Lo's Chicken & Waffles      4.0  \n",
       "196456  Lo-Lo's Chicken & Waffles      4.0  \n",
       "196457  Lo-Lo's Chicken & Waffles      4.0  \n",
       "196458  Lo-Lo's Chicken & Waffles      4.0  \n",
       "196459  Lo-Lo's Chicken & Waffles      4.0  \n",
       "196460  Lo-Lo's Chicken & Waffles      4.0  \n",
       "196461  Lo-Lo's Chicken & Waffles      4.0  \n",
       "196462  Lo-Lo's Chicken & Waffles      4.0  \n",
       "196463  Lo-Lo's Chicken & Waffles      4.0  \n",
       "196464  Lo-Lo's Chicken & Waffles      4.0  \n",
       "196465  Lo-Lo's Chicken & Waffles      4.0  \n",
       "196466  Lo-Lo's Chicken & Waffles      4.0  \n",
       "196467  Lo-Lo's Chicken & Waffles      4.0  \n",
       "196468  Lo-Lo's Chicken & Waffles      4.0  \n",
       "196469  Lo-Lo's Chicken & Waffles      4.0  \n",
       "196470  Lo-Lo's Chicken & Waffles      4.0  \n",
       "196471  Lo-Lo's Chicken & Waffles      4.0  \n",
       "196472  Lo-Lo's Chicken & Waffles      4.0  \n",
       "196473  Lo-Lo's Chicken & Waffles      4.0  \n",
       "196474  Lo-Lo's Chicken & Waffles      4.0  \n",
       "196475  Lo-Lo's Chicken & Waffles      4.0  \n",
       "196476  Lo-Lo's Chicken & Waffles      4.0  \n",
       "196477  Lo-Lo's Chicken & Waffles      4.0  \n",
       "196478  Lo-Lo's Chicken & Waffles      4.0  \n",
       "196479  Lo-Lo's Chicken & Waffles      4.0  \n",
       "196480  Lo-Lo's Chicken & Waffles      4.0  \n",
       "...                           ...      ...  \n",
       "197697  Lo-Lo's Chicken & Waffles      4.0  \n",
       "197698  Lo-Lo's Chicken & Waffles      4.0  \n",
       "197699  Lo-Lo's Chicken & Waffles      4.0  \n",
       "197700  Lo-Lo's Chicken & Waffles      4.0  \n",
       "197701  Lo-Lo's Chicken & Waffles      4.0  \n",
       "197702  Lo-Lo's Chicken & Waffles      4.0  \n",
       "197703  Lo-Lo's Chicken & Waffles      4.0  \n",
       "197704  Lo-Lo's Chicken & Waffles      4.0  \n",
       "197705  Lo-Lo's Chicken & Waffles      4.0  \n",
       "197706  Lo-Lo's Chicken & Waffles      4.0  \n",
       "197707  Lo-Lo's Chicken & Waffles      4.0  \n",
       "197708  Lo-Lo's Chicken & Waffles      4.0  \n",
       "197709  Lo-Lo's Chicken & Waffles      4.0  \n",
       "197710  Lo-Lo's Chicken & Waffles      4.0  \n",
       "197711  Lo-Lo's Chicken & Waffles      4.0  \n",
       "197712  Lo-Lo's Chicken & Waffles      4.0  \n",
       "197713  Lo-Lo's Chicken & Waffles      4.0  \n",
       "197714  Lo-Lo's Chicken & Waffles      4.0  \n",
       "197715  Lo-Lo's Chicken & Waffles      4.0  \n",
       "197716  Lo-Lo's Chicken & Waffles      4.0  \n",
       "197717  Lo-Lo's Chicken & Waffles      4.0  \n",
       "197718  Lo-Lo's Chicken & Waffles      4.0  \n",
       "197719  Lo-Lo's Chicken & Waffles      4.0  \n",
       "197720  Lo-Lo's Chicken & Waffles      4.0  \n",
       "197721  Lo-Lo's Chicken & Waffles      4.0  \n",
       "197722  Lo-Lo's Chicken & Waffles      4.0  \n",
       "197723  Lo-Lo's Chicken & Waffles      4.0  \n",
       "197724  Lo-Lo's Chicken & Waffles      4.0  \n",
       "197725  Lo-Lo's Chicken & Waffles      4.0  \n",
       "197726  Lo-Lo's Chicken & Waffles      4.0  \n",
       "\n",
       "[1276 rows x 6 columns]"
      ]
     },
     "metadata": {},
     "output_type": "display_data"
    }
   ],
   "source": [
    "display(pair_data[pair_data['business_id'] == 'YPavuOh2XsnRbLfl0DH2lQ'])"
   ]
  },
  {
   "cell_type": "code",
   "execution_count": 13,
   "metadata": {
    "collapsed": false
   },
   "outputs": [],
   "source": [
    "#################get the businessID from data\n",
    "Ph_business=defaultdict(list)\n",
    "Ph_user=defaultdict(list)\n",
    "for i in range(0,len(pair_data.index)):\n",
    "    userid=(pair_data.loc[i,'user_id']).encode('ascii', 'ignore')\n",
    "    businessid=(pair_data.loc[i,'business_id']).encode('ascii', 'ignore')\n",
    "    Ph_business[businessid].append(userid)\n",
    "    Ph_user[userid].append(businessid)"
   ]
  },
  {
   "cell_type": "code",
   "execution_count": 24,
   "metadata": {
    "collapsed": false
   },
   "outputs": [
    {
     "data": {
      "text/plain": [
       "97476"
      ]
     },
     "execution_count": 24,
     "metadata": {},
     "output_type": "execute_result"
    }
   ],
   "source": [
    "len(Ph_user)"
   ]
  },
  {
   "cell_type": "code",
   "execution_count": 14,
   "metadata": {
    "collapsed": false
   },
   "outputs": [],
   "source": [
    "################get the data from the user set\n",
    "with open('yelp_academic_dataset_user.json') as u:\n",
    "    user=pd.DataFrame(json.loads(line) for line in u)"
   ]
  },
  {
   "cell_type": "code",
   "execution_count": 16,
   "metadata": {
    "collapsed": false
   },
   "outputs": [
    {
     "data": {
      "text/html": [
       "<div>\n",
       "<table border=\"1\" class=\"dataframe\">\n",
       "  <thead>\n",
       "    <tr style=\"text-align: right;\">\n",
       "      <th></th>\n",
       "      <th>average_stars</th>\n",
       "      <th>compliment_cool</th>\n",
       "      <th>compliment_cute</th>\n",
       "      <th>compliment_funny</th>\n",
       "      <th>compliment_hot</th>\n",
       "      <th>compliment_list</th>\n",
       "      <th>compliment_more</th>\n",
       "      <th>compliment_note</th>\n",
       "      <th>compliment_photos</th>\n",
       "      <th>compliment_plain</th>\n",
       "      <th>...</th>\n",
       "      <th>elite</th>\n",
       "      <th>fans</th>\n",
       "      <th>friends</th>\n",
       "      <th>funny</th>\n",
       "      <th>name</th>\n",
       "      <th>review_count</th>\n",
       "      <th>type</th>\n",
       "      <th>useful</th>\n",
       "      <th>user_id</th>\n",
       "      <th>yelping_since</th>\n",
       "    </tr>\n",
       "  </thead>\n",
       "  <tbody>\n",
       "    <tr>\n",
       "      <th>0</th>\n",
       "      <td>3.59</td>\n",
       "      <td>4192</td>\n",
       "      <td>79</td>\n",
       "      <td>4192</td>\n",
       "      <td>3904</td>\n",
       "      <td>19</td>\n",
       "      <td>305</td>\n",
       "      <td>4705</td>\n",
       "      <td>1347</td>\n",
       "      <td>2617</td>\n",
       "      <td>...</td>\n",
       "      <td>[2017, 2015, 2016, 2014, 2011, 2013, 2012]</td>\n",
       "      <td>298</td>\n",
       "      <td>[iJg9ekPzF9lkMuvjKYX6uA, ctWAuzS04Xu0lke2Rop4l...</td>\n",
       "      <td>12316</td>\n",
       "      <td>Rob</td>\n",
       "      <td>761</td>\n",
       "      <td>user</td>\n",
       "      <td>18456</td>\n",
       "      <td>EZmocAborM6z66rTzeZxzQ</td>\n",
       "      <td>2009-09-12</td>\n",
       "    </tr>\n",
       "    <tr>\n",
       "      <th>1</th>\n",
       "      <td>4.29</td>\n",
       "      <td>144</td>\n",
       "      <td>11</td>\n",
       "      <td>144</td>\n",
       "      <td>64</td>\n",
       "      <td>1</td>\n",
       "      <td>4</td>\n",
       "      <td>97</td>\n",
       "      <td>24</td>\n",
       "      <td>129</td>\n",
       "      <td>...</td>\n",
       "      <td>[None]</td>\n",
       "      <td>34</td>\n",
       "      <td>[r2UUCzGxqI6WPsiWPgqG2A, qewG3X2O4X6JKskxyyqFw...</td>\n",
       "      <td>28</td>\n",
       "      <td>Vivian</td>\n",
       "      <td>80</td>\n",
       "      <td>user</td>\n",
       "      <td>117</td>\n",
       "      <td>myql3o3x22_ygECb8gVo7A</td>\n",
       "      <td>2009-06-27</td>\n",
       "    </tr>\n",
       "    <tr>\n",
       "      <th>2</th>\n",
       "      <td>4.15</td>\n",
       "      <td>36</td>\n",
       "      <td>1</td>\n",
       "      <td>36</td>\n",
       "      <td>14</td>\n",
       "      <td>2</td>\n",
       "      <td>10</td>\n",
       "      <td>21</td>\n",
       "      <td>4</td>\n",
       "      <td>23</td>\n",
       "      <td>...</td>\n",
       "      <td>[2011, 2016, 2017, 2013, 2014, 2015, 2012]</td>\n",
       "      <td>48</td>\n",
       "      <td>[qewG3X2O4X6JKskxyyqFwQ, -50XWnmQGqBgEI-9ANvLl...</td>\n",
       "      <td>6</td>\n",
       "      <td>Carol</td>\n",
       "      <td>841</td>\n",
       "      <td>user</td>\n",
       "      <td>58</td>\n",
       "      <td>FIk4lQQu1eTe2EpzQ4xhBA</td>\n",
       "      <td>2010-08-26</td>\n",
       "    </tr>\n",
       "    <tr>\n",
       "      <th>3</th>\n",
       "      <td>3.82</td>\n",
       "      <td>54</td>\n",
       "      <td>6</td>\n",
       "      <td>54</td>\n",
       "      <td>32</td>\n",
       "      <td>0</td>\n",
       "      <td>5</td>\n",
       "      <td>13</td>\n",
       "      <td>1</td>\n",
       "      <td>29</td>\n",
       "      <td>...</td>\n",
       "      <td>[2014, 2010, 2017, 2015, 2011, 2016, 2013, 201...</td>\n",
       "      <td>28</td>\n",
       "      <td>[AIhfuFmX62k7a22gXXAB2Q, kQ1jU2rDpFD_q54edEmwI...</td>\n",
       "      <td>51</td>\n",
       "      <td>Miss Maggie</td>\n",
       "      <td>376</td>\n",
       "      <td>user</td>\n",
       "      <td>42</td>\n",
       "      <td>ojovtd9c8GIeDiB8e0mq2w</td>\n",
       "      <td>2008-05-31</td>\n",
       "    </tr>\n",
       "    <tr>\n",
       "      <th>4</th>\n",
       "      <td>2.97</td>\n",
       "      <td>0</td>\n",
       "      <td>0</td>\n",
       "      <td>0</td>\n",
       "      <td>0</td>\n",
       "      <td>0</td>\n",
       "      <td>0</td>\n",
       "      <td>0</td>\n",
       "      <td>0</td>\n",
       "      <td>0</td>\n",
       "      <td>...</td>\n",
       "      <td>[None]</td>\n",
       "      <td>2</td>\n",
       "      <td>[bvZkBCY-AvCsxRjd6Q-vEQ, KNEVNYeyNZApXG6HqOdsR...</td>\n",
       "      <td>3</td>\n",
       "      <td>Jeremy</td>\n",
       "      <td>28</td>\n",
       "      <td>user</td>\n",
       "      <td>8</td>\n",
       "      <td>uVEoZmmL9yK0NMgadLL0CQ</td>\n",
       "      <td>2013-01-17</td>\n",
       "    </tr>\n",
       "  </tbody>\n",
       "</table>\n",
       "<p>5 rows × 23 columns</p>\n",
       "</div>"
      ],
      "text/plain": [
       "   average_stars  compliment_cool  compliment_cute  compliment_funny  \\\n",
       "0           3.59             4192               79              4192   \n",
       "1           4.29              144               11               144   \n",
       "2           4.15               36                1                36   \n",
       "3           3.82               54                6                54   \n",
       "4           2.97                0                0                 0   \n",
       "\n",
       "   compliment_hot  compliment_list  compliment_more  compliment_note  \\\n",
       "0            3904               19              305             4705   \n",
       "1              64                1                4               97   \n",
       "2              14                2               10               21   \n",
       "3              32                0                5               13   \n",
       "4               0                0                0                0   \n",
       "\n",
       "   compliment_photos  compliment_plain      ...       \\\n",
       "0               1347              2617      ...        \n",
       "1                 24               129      ...        \n",
       "2                  4                23      ...        \n",
       "3                  1                29      ...        \n",
       "4                  0                 0      ...        \n",
       "\n",
       "                                               elite  fans  \\\n",
       "0         [2017, 2015, 2016, 2014, 2011, 2013, 2012]   298   \n",
       "1                                             [None]    34   \n",
       "2         [2011, 2016, 2017, 2013, 2014, 2015, 2012]    48   \n",
       "3  [2014, 2010, 2017, 2015, 2011, 2016, 2013, 201...    28   \n",
       "4                                             [None]     2   \n",
       "\n",
       "                                             friends  funny         name  \\\n",
       "0  [iJg9ekPzF9lkMuvjKYX6uA, ctWAuzS04Xu0lke2Rop4l...  12316          Rob   \n",
       "1  [r2UUCzGxqI6WPsiWPgqG2A, qewG3X2O4X6JKskxyyqFw...     28       Vivian   \n",
       "2  [qewG3X2O4X6JKskxyyqFwQ, -50XWnmQGqBgEI-9ANvLl...      6        Carol   \n",
       "3  [AIhfuFmX62k7a22gXXAB2Q, kQ1jU2rDpFD_q54edEmwI...     51  Miss Maggie   \n",
       "4  [bvZkBCY-AvCsxRjd6Q-vEQ, KNEVNYeyNZApXG6HqOdsR...      3       Jeremy   \n",
       "\n",
       "  review_count  type useful                 user_id yelping_since  \n",
       "0          761  user  18456  EZmocAborM6z66rTzeZxzQ    2009-09-12  \n",
       "1           80  user    117  myql3o3x22_ygECb8gVo7A    2009-06-27  \n",
       "2          841  user     58  FIk4lQQu1eTe2EpzQ4xhBA    2010-08-26  \n",
       "3          376  user     42  ojovtd9c8GIeDiB8e0mq2w    2008-05-31  \n",
       "4           28  user      8  uVEoZmmL9yK0NMgadLL0CQ    2013-01-17  \n",
       "\n",
       "[5 rows x 23 columns]"
      ]
     },
     "execution_count": 16,
     "metadata": {},
     "output_type": "execute_result"
    }
   ],
   "source": [
    "user.head(5)"
   ]
  },
  {
   "cell_type": "code",
   "execution_count": null,
   "metadata": {
    "collapsed": true
   },
   "outputs": [],
   "source": [
    "user_friends=defaultdict(list)\n",
    "for i in range(0,len(user.index)):\n",
    "    user_friends[user.iloc[i,21]].extend([i.encode('ascii', 'ignore') for i in user.iloc[i,15]])"
   ]
  },
  {
   "cell_type": "code",
   "execution_count": null,
   "metadata": {
    "collapsed": false
   },
   "outputs": [],
   "source": [
    "user_friends['EZmocAborM6z66rTzeZxzQ']"
   ]
  },
  {
   "cell_type": "code",
   "execution_count": 19,
   "metadata": {
    "collapsed": true
   },
   "outputs": [],
   "source": [
    "Ph_user_set=[]\n",
    "for i in Ph_user:\n",
    "    Ph_user_set.append(i)"
   ]
  },
  {
   "cell_type": "code",
   "execution_count": 20,
   "metadata": {
    "collapsed": false
   },
   "outputs": [],
   "source": [
    "##########generate the friends of each user in Lv to make sure that there friends also have review in Lv\n",
    "Ph_user_friends=defaultdict(list)\n",
    "for i in Ph_user_set:\n",
    "    Ph_user_friends[i].extend(list(set(user_friends[i])&set(Ph_user_set)))\n"
   ]
  },
  {
   "cell_type": "code",
   "execution_count": 17,
   "metadata": {
    "collapsed": true
   },
   "outputs": [],
   "source": [
    "zero=0\n",
    "one=0\n",
    "for i in Ph_user_friends:\n",
    "    if len(Ph_user_friends[i])==0:\n",
    "        zero+=1\n",
    "    if len(Ph_user_friends[i])==1:\n",
    "        one+=1"
   ]
  },
  {
   "cell_type": "code",
   "execution_count": 18,
   "metadata": {
    "collapsed": false
   },
   "outputs": [
    {
     "name": "stdout",
     "output_type": "stream",
     "text": [
      "55694\n",
      "12202\n"
     ]
    }
   ],
   "source": [
    "print zero\n",
    "print one"
   ]
  },
  {
   "cell_type": "code",
   "execution_count": 19,
   "metadata": {
    "collapsed": false
   },
   "outputs": [],
   "source": [
    "Ph_user_withoutzero=[]\n",
    "Ph_user_zero=[]\n",
    "Ph_user_withoutzero.extend(Ph_user_set)\n",
    "for i in Ph_user_friends:\n",
    "    if len(Ph_user_friends[i])==0:\n",
    "        Ph_user_withoutzero.remove(i)\n",
    "        Ph_user_zero.append(i)"
   ]
  },
  {
   "cell_type": "code",
   "execution_count": 20,
   "metadata": {
    "collapsed": false
   },
   "outputs": [],
   "source": [
    "###################delete user with zero friends\n",
    "for i in Ph_user_zero:\n",
    "    del Ph_user_friends[i]"
   ]
  },
  {
   "cell_type": "code",
   "execution_count": 27,
   "metadata": {
    "collapsed": false
   },
   "outputs": [],
   "source": [
    "###############test whether remain user satisfied the power law\n",
    "count_number=[]\n",
    "degree=[]\n",
    "num_degree_dict=defaultdict(lambda:0)\n",
    "for i in Ph_user_friends:\n",
    "    num_degree_dict[len(Ph_user_friends[i])]+=1\n",
    "    \n",
    "for i in num_degree_dict:\n",
    "    count_number.append(math.log(num_degree_dict[i]))\n",
    "    degree.append(i)"
   ]
  },
  {
   "cell_type": "code",
   "execution_count": 24,
   "metadata": {
    "collapsed": false
   },
   "outputs": [
    {
     "data": {
      "text/plain": [
       "[12202, 6165, 4070, 2895, 2210, 1693, 1425, 1132, 924, 797]"
      ]
     },
     "execution_count": 24,
     "metadata": {},
     "output_type": "execute_result"
    }
   ],
   "source": [
    "count_number[:10]"
   ]
  },
  {
   "cell_type": "code",
   "execution_count": 28,
   "metadata": {
    "collapsed": false
   },
   "outputs": [
    {
     "data": {
      "image/png": "[encoded data removed]",
      "text/plain": [
       "<matplotlib.figure.Figure at 0x7f4a1ca36f50>"
      ]
     },
     "metadata": {},
     "output_type": "display_data"
    }
   ],
   "source": [
    "######################draw the graph\n",
    "plt.scatter(degree,count_number,c='blue')\n",
    "plt.xlabel('degree')\n",
    "plt.ylabel('count_number')\n",
    "plt.show()"
   ]
  },
  {
   "cell_type": "code",
   "execution_count": 40,
   "metadata": {
    "collapsed": true
   },
   "outputs": [],
   "source": [
    "####################get private data from user\n",
    "private_data_user=defaultdict(list)\n",
    "for i in range(len(user.index)):\n",
    "    u=user.iloc[i,21]\n",
    "    private_data_user[u].append(user.loc[i,'compliment_cool'])\n",
    "    private_data_user[u].append(user.loc[i,'compliment_cute'])\n",
    "    private_data_user[u].append(user.loc[i,'compliment_funny'])\n",
    "    private_data_user[u].append(user.loc[i,'compliment_hot'])\n",
    "    private_data_user[u].append(user.loc[i,'compliment_list'])\n",
    "    private_data_user[u].append(user.loc[i,'compliment_more'])\n",
    "    private_data_user[u].append(user.loc[i,'compliment_note'])\n",
    "    private_data_user[u].append(user.loc[i,'compliment_photos'])\n",
    "    private_data_user[u].append(user.loc[i,'compliment_plain'])\n",
    "    private_data_user[u].append(user.loc[i,'fans'])\n",
    "    private_data_user[u].append(user.loc[i,'useful'])\n",
    "    private_data_user[u].append(user.loc[i,'funny'])"
   ]
  },
  {
   "cell_type": "code",
   "execution_count": 57,
   "metadata": {
    "collapsed": false
   },
   "outputs": [
    {
     "name": "stdout",
     "output_type": "stream",
     "text": [
      "8uU9PRtwgHrSDtve7Z-sMA\n",
      "[0, 0, 0, 0, 0, 0, 0, 0, 0, 0, 0, 0]\n",
      "an8MLCN3dYT8J6eSaszWlw\n",
      "[0, 0, 0, 0, 0, 0, 0, 0, 0, 0, 3, 0]\n",
      "TSFDRxY6Fvb8o9ylq-9Jzg\n",
      "[3, 0, 3, 1, 1, 1, 0, 0, 4, 4, 18, 30]\n",
      "Bu1-Nm7zPbWRf14RSCIi6Q\n",
      "[0, 0, 0, 0, 0, 0, 0, 0, 0, 0, 9, 3]\n",
      "loLuBrbsKuWJ-uEvV3ZBRg\n",
      "[0, 0, 0, 0, 0, 0, 0, 0, 0, 0, 0, 0]\n",
      "yff3Loo9L9gcEDDRxzruTQ\n",
      "[0, 0, 0, 0, 0, 0, 0, 0, 0, 0, 1, 0]\n",
      "L2rNGPYfyC4UXxmKAzqcqA\n",
      "[0, 0, 0, 0, 0, 0, 0, 0, 0, 0, 0, 0]\n",
      "509Lnm5epqje7Y5sVk2wMA\n",
      "[0, 0, 0, 0, 0, 0, 0, 0, 0, 0, 0, 0]\n",
      "rWoxnoEf2MpKbzmTl-Hcpg\n",
      "[0, 0, 0, 0, 0, 0, 0, 0, 0, 0, 0, 0]\n",
      "jYl1z1AtPuHsrBr8_Twulw\n",
      "[0, 0, 0, 0, 0, 0, 0, 0, 0, 0, 2, 0]\n",
      "h4qp1KUq5zZvhb9BAIrK0A\n",
      "[0, 0, 0, 0, 0, 0, 0, 0, 0, 0, 0, 0]\n",
      "l7cWKGh_fZiRFO8oHe3Ayw\n",
      "[0, 0, 0, 0, 0, 0, 0, 0, 0, 0, 0, 0]\n",
      "LRE39Mt3_FYh1rdlGMvuRg\n",
      "[0, 0, 0, 0, 0, 0, 0, 0, 1, 1, 2, 2]\n",
      "QKGvcFrcm3msQz5WDcuLvg\n",
      "[0, 0, 0, 0, 0, 0, 0, 0, 0, 0, 0, 0]\n",
      "nKYEwQj3ZN9KnISsNyVyTQ\n",
      "[5, 0, 5, 5, 0, 1, 7, 0, 5, 4, 4, 2]\n",
      "OzywOVo259-m5ljWrD7f1g\n",
      "[0, 0, 0, 0, 0, 0, 0, 0, 0, 0, 0, 0]\n"
     ]
    }
   ],
   "source": [
    "c=0\n",
    "for i in private_data_user:\n",
    "    print i\n",
    "    print private_data_user[i]\n",
    "    c+=1\n",
    "    if c>15:\n",
    "        break"
   ]
  },
  {
   "cell_type": "code",
   "execution_count": 56,
   "metadata": {
    "collapsed": false
   },
   "outputs": [],
   "source": [
    "del private_data_user[0]"
   ]
  },
  {
   "cell_type": "code",
   "execution_count": 122,
   "metadata": {
    "collapsed": false
   },
   "outputs": [],
   "source": [
    "################test the realation between private feature and degree\n",
    "compliment_cool=[]\n",
    "compliment_cute=[]\n",
    "compliment_funny=[]\n",
    "compliment_hot=[]\n",
    "compliment_list=[]\n",
    "compliment_more=[]\n",
    "compliment_note=[]\n",
    "compliment_photos=[]\n",
    "compliment_plain=[]\n",
    "fans=[]\n",
    "useful=[]\n",
    "funny=[]\n",
    "friends_number=[]\n",
    "review_count=[]\n",
    "for i in Ph_user_friends:\n",
    "    p=private_data_user[i]\n",
    "    if len(p)<12:\n",
    "        continue\n",
    "    compliment_cool.append(p[0]/len(Ph_user[i]))\n",
    "    compliment_cute.append(private_data_user[i][1]/len(Ph_user[i]))\n",
    "    compliment_funny.append(private_data_user[i][2]/len(Ph_user[i]))\n",
    "    compliment_hot.append(private_data_user[i][3]/len(Ph_user[i]))\n",
    "    compliment_list.append(private_data_user[i][4]/len(Ph_user[i]))\n",
    "    compliment_more.append(private_data_user[i][5]/len(Ph_user[i]))\n",
    "    compliment_note.append(private_data_user[i][6]/len(Ph_user[i]))\n",
    "    compliment_photos.append(private_data_user[i][7]/len(Ph_user[i]))\n",
    "    compliment_plain.append(private_data_user[i][8]/len(Ph_user[i]))\n",
    "    fans.append(private_data_user[i][9])\n",
    "    useful.append(private_data_user[i][10]/len(Ph_user[i]))\n",
    "    funny.append(private_data_user[i][11])\n",
    "    review_count.append(len(Ph_user[i]))\n",
    "    friends_number.append(len(Ph_user_friends[i]))"
   ]
  },
  {
   "cell_type": "code",
   "execution_count": 117,
   "metadata": {
    "collapsed": false
   },
   "outputs": [
    {
     "data": {
      "text/plain": [
       "[0.5,\n",
       " 0.66666666666666663,\n",
       " 0.0,\n",
       " 0.0,\n",
       " 0.0,\n",
       " 0.0,\n",
       " 0.0,\n",
       " 190.5,\n",
       " 0.0,\n",
       " 0.0,\n",
       " 0.0,\n",
       " 0.0,\n",
       " 1.3333333333333333,\n",
       " 0.0,\n",
       " 0.0,\n",
       " 0.33333333333333331,\n",
       " 0.0,\n",
       " 0.0,\n",
       " 0.33333333333333331,\n",
       " 0.0]"
      ]
     },
     "execution_count": 117,
     "metadata": {},
     "output_type": "execute_result"
    }
   ],
   "source": [
    "compliment_cool[:20]"
   ]
  },
  {
   "cell_type": "code",
   "execution_count": 105,
   "metadata": {
    "collapsed": false
   },
   "outputs": [
    {
     "data": {
      "text/plain": [
       "41782"
      ]
     },
     "execution_count": 105,
     "metadata": {},
     "output_type": "execute_result"
    }
   ],
   "source": [
    "len(review_count)"
   ]
  },
  {
   "cell_type": "code",
   "execution_count": 77,
   "metadata": {
    "collapsed": false
   },
   "outputs": [
    {
     "name": "stdout",
     "output_type": "stream",
     "text": [
      "[1, 2, 0, 0, 0, 0, 0, 381, 0, 0]\n",
      "[1, 2, 0, 0, 0, 0, 0, 381, 0, 0]\n"
     ]
    }
   ],
   "source": [
    "print compliment_cool[:10]\n",
    "print compliment_funny[:10]"
   ]
  },
  {
   "cell_type": "code",
   "execution_count": 37,
   "metadata": {
    "collapsed": false
   },
   "outputs": [
    {
     "name": "stdout",
     "output_type": "stream",
     "text": [
      "0\n",
      "gLV4VXc4k_WF9ElByOdE5Q\n",
      "uc1tzQ8bDGrr27x089QW8w\n",
      "IT2I77tByqTSs82dp4WusA\n",
      "dSWJYuyqJXL6Bw8roBsUJw\n",
      "A1cMuN8HztgmAUilPtcKQw\n",
      "NeQw3MKelZqf3H7jIiSVfw\n",
      "oB-Hdpf6lgboKCzni3iHsQ\n",
      "G3h8pIclwUbuu3itJqF7ug\n",
      "9W4kvweusvtZ-Xa5Hwki-Q\n",
      "RWrKezuX8dw7gogbopCrrQ\n"
     ]
    }
   ],
   "source": [
    "c=0\n",
    "for i in Ph_user_friends:\n",
    "    print i\n",
    "    c+=1\n",
    "    if c>10:\n",
    "        break"
   ]
  },
  {
   "cell_type": "code",
   "execution_count": 177,
   "metadata": {
    "collapsed": false
   },
   "outputs": [
    {
     "data": {
      "image/png": "[encoded data removed]",
      "text/plain": [
       "<matplotlib.figure.Figure at 0x7f4a04e7e450>"
      ]
     },
     "metadata": {},
     "output_type": "display_data"
    }
   ],
   "source": [
    "#plt.scatter(friends_number,compliment_list,c='blue')\n",
    "plt.xlabel('the number of the fans')\n",
    "plt.ylabel('the number of different component')\n",
    "axes = plt.subplot(111)\n",
    "type1 = axes.scatter( friends_number,compliment_cool,s=40,marker = 'x', c='red' )\n",
    "#type2 = axes.scatter(friends_number,compliment_note, s=40,marker = '+', c='green')\n",
    "#type3 = axes.scatter(fans,compliment_cute, s=40,marker = '*', c='blue')\n",
    "#type4 = axes.scatter(fans,compliment_hot, s=40, marker = '+',c='yellow')\n",
    "axes.legend((type1, type3,type4), ('compliment_cool', 'compliment_cute','compliment_hot'),loc=1)\n",
    "plt.show()"
   ]
  },
  {
   "cell_type": "code",
   "execution_count": 167,
   "metadata": {
    "collapsed": false
   },
   "outputs": [
    {
     "name": "stdout",
     "output_type": "stream",
     "text": [
      "test  26  time\n",
      "test  27  time\n",
      "test  28  time\n"
     ]
    }
   ],
   "source": [
    "################test whether the number of common review can act to be a feature to make graph\n",
    "\n",
    "#review_count_value=27\n",
    "#########set a stander since there will be too many comparison if we go through every node\n",
    "graph_different_rate=[]\n",
    "review_count=[]\n",
    "for review_count_value in range(26,29):\n",
    "    print \"test \",review_count_value,\" time\"\n",
    "    #######initialize\n",
    "    count=0\n",
    "    different=0\n",
    "    Ph_user_review_graph=defaultdict(lambda:list)\n",
    "    for i in Ph_user_friends:\n",
    "        review_set=set(Ph_user[i])\n",
    "        ####compare the common review\n",
    "        for f in Ph_user_friends:\n",
    "            if f==i:\n",
    "                continue\n",
    "            if len(review_set&set(Ph_user[f]))>review_count_value:\n",
    "                Ph_user_review_graph[i].append(f)\n",
    "        count+=1\n",
    "        if count>700:\n",
    "            break\n",
    "    for i in Ph_user_review_graph:\n",
    "        if len(set(Ph_user_review_graph[i])|set(Ph_user_friends[i]))==0:\n",
    "            continue\n",
    "        different+=(len(set(Ph_user_review_graph[i])&set(Ph_user_friends[i]))/len(set(Ph_user_review_graph[i])|set(Ph_user_friends[i])))\n",
    "    if len(Ph_user_review_graph)==0:\n",
    "        graph_different_rate.append(0)\n",
    "    else:\n",
    "        graph_different_rate.append(different/len(Ph_user_review_graph))\n",
    "    review_count.append(review_count_value)"
   ]
  },
  {
   "cell_type": "code",
   "execution_count": 168,
   "metadata": {
    "collapsed": false
   },
   "outputs": [
    {
     "data": {
      "image/png": "[encoded data removed]",
      "text/plain": [
       "<matplotlib.figure.Figure at 0x7f4a051c2050>"
      ]
     },
     "metadata": {},
     "output_type": "display_data"
    }
   ],
   "source": [
    "###########create plot of the difference\n",
    "plt.xlabel('the review count value')\n",
    "plt.ylabel('the difference rate between two graph')\n",
    "plt.plot( review_count,graph_different_rate,c='red' )\n",
    "plt.show()\n",
    "\n"
   ]
  },
  {
   "cell_type": "code",
   "execution_count": 147,
   "metadata": {
    "collapsed": true
   },
   "outputs": [],
   "source": []
  },
  {
   "cell_type": "code",
   "execution_count": 148,
   "metadata": {
    "collapsed": false
   },
   "outputs": [
    {
     "data": {
      "text/plain": [
       "0.0006764512820505448"
      ]
     },
     "execution_count": 148,
     "metadata": {},
     "output_type": "execute_result"
    }
   ],
   "source": [
    "different"
   ]
  },
  {
   "cell_type": "code",
   "execution_count": 100,
   "metadata": {
    "collapsed": false
   },
   "outputs": [
    {
     "data": {
      "text/html": [
       "<div>\n",
       "<table border=\"1\" class=\"dataframe\">\n",
       "  <thead>\n",
       "    <tr style=\"text-align: right;\">\n",
       "      <th></th>\n",
       "      <th>average_stars</th>\n",
       "      <th>compliment_cool</th>\n",
       "      <th>compliment_cute</th>\n",
       "      <th>compliment_funny</th>\n",
       "      <th>compliment_hot</th>\n",
       "      <th>compliment_list</th>\n",
       "      <th>compliment_more</th>\n",
       "      <th>compliment_note</th>\n",
       "      <th>compliment_photos</th>\n",
       "      <th>compliment_plain</th>\n",
       "      <th>...</th>\n",
       "      <th>elite</th>\n",
       "      <th>fans</th>\n",
       "      <th>friends</th>\n",
       "      <th>funny</th>\n",
       "      <th>name</th>\n",
       "      <th>review_count</th>\n",
       "      <th>type</th>\n",
       "      <th>useful</th>\n",
       "      <th>user_id</th>\n",
       "      <th>yelping_since</th>\n",
       "    </tr>\n",
       "  </thead>\n",
       "  <tbody>\n",
       "    <tr>\n",
       "      <th>0</th>\n",
       "      <td>3.59</td>\n",
       "      <td>4192</td>\n",
       "      <td>79</td>\n",
       "      <td>4192</td>\n",
       "      <td>3904</td>\n",
       "      <td>19</td>\n",
       "      <td>305</td>\n",
       "      <td>4705</td>\n",
       "      <td>1347</td>\n",
       "      <td>2617</td>\n",
       "      <td>...</td>\n",
       "      <td>[2017, 2015, 2016, 2014, 2011, 2013, 2012]</td>\n",
       "      <td>298</td>\n",
       "      <td>[iJg9ekPzF9lkMuvjKYX6uA, ctWAuzS04Xu0lke2Rop4l...</td>\n",
       "      <td>12316</td>\n",
       "      <td>Rob</td>\n",
       "      <td>761</td>\n",
       "      <td>user</td>\n",
       "      <td>18456</td>\n",
       "      <td>EZmocAborM6z66rTzeZxzQ</td>\n",
       "      <td>2009-09-12</td>\n",
       "    </tr>\n",
       "  </tbody>\n",
       "</table>\n",
       "<p>1 rows × 23 columns</p>\n",
       "</div>"
      ],
      "text/plain": [
       "   average_stars  compliment_cool  compliment_cute  compliment_funny  \\\n",
       "0           3.59             4192               79              4192   \n",
       "\n",
       "   compliment_hot  compliment_list  compliment_more  compliment_note  \\\n",
       "0            3904               19              305             4705   \n",
       "\n",
       "   compliment_photos  compliment_plain      ...       \\\n",
       "0               1347              2617      ...        \n",
       "\n",
       "                                        elite  fans  \\\n",
       "0  [2017, 2015, 2016, 2014, 2011, 2013, 2012]   298   \n",
       "\n",
       "                                             friends  funny  name  \\\n",
       "0  [iJg9ekPzF9lkMuvjKYX6uA, ctWAuzS04Xu0lke2Rop4l...  12316   Rob   \n",
       "\n",
       "  review_count  type useful                 user_id yelping_since  \n",
       "0          761  user  18456  EZmocAborM6z66rTzeZxzQ    2009-09-12  \n",
       "\n",
       "[1 rows x 23 columns]"
      ]
     },
     "execution_count": 100,
     "metadata": {},
     "output_type": "execute_result"
    }
   ],
   "source": [
    "user.head(1)"
   ]
  },
  {
   "cell_type": "code",
   "execution_count": 45,
   "metadata": {
    "collapsed": false
   },
   "outputs": [],
   "source": [
    "##################relationship between average common review and friends number\n",
    "average_com_review=[]\n",
    "friends_number=[]\n",
    "for i in Ph_user_friends:\n",
    "    com_review=0\n",
    "    for u in Ph_user_friends[i]:\n",
    "        com_review+=(len(set(Ph_user[i])&set(Ph_user[u])))\n",
    "    average_com_review.append(com_review/len(Ph_user_friends[i]))\n",
    "    friends_number.append(len(Ph_user_friends[i]))"
   ]
  },
  {
   "cell_type": "code",
   "execution_count": 47,
   "metadata": {
    "collapsed": false
   },
   "outputs": [
    {
     "data": {
      "text/plain": [
       "[13, 1, 3, 21, 1, 2, 1, 95, 1, 1, 2, 2, 5, 6, 40, 1, 6, 3, 1, 1]"
      ]
     },
     "execution_count": 47,
     "metadata": {},
     "output_type": "execute_result"
    }
   ],
   "source": [
    "friends_number[:20]"
   ]
  },
  {
   "cell_type": "code",
   "execution_count": 49,
   "metadata": {
    "collapsed": false
   },
   "outputs": [
    {
     "data": {
      "image/png": "[encoded data removed]",
      "text/plain": [
       "<matplotlib.figure.Figure at 0x7f4d955adf90>"
      ]
     },
     "metadata": {},
     "output_type": "display_data"
    }
   ],
   "source": [
    "plt.scatter(friends_number,average_com_review,c='blue')\n",
    "plt.xlabel('the number of the friends user have')\n",
    "plt.ylabel('the number of the common restaurant users have with his friends')\n",
    "plt.show()"
   ]
  },
  {
   "cell_type": "code",
   "execution_count": 169,
   "metadata": {
    "collapsed": true
   },
   "outputs": [],
   "source": [
    "Ph_user_set=[]\n",
    "for i in Ph_user_friends:\n",
    "    Ph_user_set.append(i)"
   ]
  },
  {
   "cell_type": "code",
   "execution_count": 190,
   "metadata": {
    "collapsed": false
   },
   "outputs": [],
   "source": [
    "##############get total_set     training and testing set\n",
    "\n",
    "#del Ph_user_friends[0]\n",
    "total_set=[]\n",
    "for i in Ph_user_friends:\n",
    "    total_set.extend((i,u) for u in Ph_user_friends[i])\n",
    "    #no_friend=[]\n",
    "    #no_friend.extend(list(set(Ph_user_set)-set(Ph_user_friends[i])))\n",
    "    #for u in range(3):\n",
    "        #n=no_friend[int((random.random()*100)%len(no_friend))]\n",
    "        #total_set.append((i,n,0)) "
   ]
  },
  {
   "cell_type": "code",
   "execution_count": 191,
   "metadata": {
    "collapsed": false
   },
   "outputs": [
    {
     "data": {
      "text/plain": [
       "[('gLV4VXc4k_WF9ElByOdE5Q', 'UGtX_gOZo8oopwmhEc_dlA'),\n",
       " ('gLV4VXc4k_WF9ElByOdE5Q', 'Vs-fFQcrtPITzzkmnIaiBg'),\n",
       " ('gLV4VXc4k_WF9ElByOdE5Q', 'L1Q0CMVemWy_cJ2yd54WTQ'),\n",
       " ('gLV4VXc4k_WF9ElByOdE5Q', 'ZHb1nyYRmh-APVVj_cYvUw'),\n",
       " ('gLV4VXc4k_WF9ElByOdE5Q', '199pTIANerY4aLvqvw222w'),\n",
       " ('gLV4VXc4k_WF9ElByOdE5Q', 'WsAejVneMXU-_yp_W0b_2A'),\n",
       " ('gLV4VXc4k_WF9ElByOdE5Q', 'q7YzbQRLUte99uMrawImVA'),\n",
       " ('gLV4VXc4k_WF9ElByOdE5Q', '9oAr1HkdaXrUOnBPQi7L3Q'),\n",
       " ('gLV4VXc4k_WF9ElByOdE5Q', 'uSztMmw7V4KgSba--eVGKg'),\n",
       " ('gLV4VXc4k_WF9ElByOdE5Q', '_TKkleG36G_4-P5TPC9sMg'),\n",
       " ('gLV4VXc4k_WF9ElByOdE5Q', 'aTGA26pTmJAnNLKS4oa5Iw'),\n",
       " ('gLV4VXc4k_WF9ElByOdE5Q', 'koVUjO8GqHfIn764H2j_sw'),\n",
       " ('gLV4VXc4k_WF9ElByOdE5Q', 'Ftm922jToXD5B0TBpi6jcQ'),\n",
       " ('uc1tzQ8bDGrr27x089QW8w', '8SgjU2fID9VqKQooFt1DIQ'),\n",
       " ('IT2I77tByqTSs82dp4WusA', 'fEG48JjLRBwxzUXU4_RzOQ'),\n",
       " ('IT2I77tByqTSs82dp4WusA', 'ePNLxKQ5bfiNCuDQCEB8-Q'),\n",
       " ('IT2I77tByqTSs82dp4WusA', 'P43hfWf5E9eFB4eof2Z2tw'),\n",
       " ('dSWJYuyqJXL6Bw8roBsUJw', 'XeAPKq39IIeKexvvihFi_Q'),\n",
       " ('dSWJYuyqJXL6Bw8roBsUJw', 'KIT_Ht1oD0ywVuWIsB1OKQ'),\n",
       " ('dSWJYuyqJXL6Bw8roBsUJw', 'DajhCjVpPs0zQYw0pm0gww'),\n",
       " ('dSWJYuyqJXL6Bw8roBsUJw', 'Q5BPZv4NFoHAFgu93497Vg'),\n",
       " ('dSWJYuyqJXL6Bw8roBsUJw', 'Ckjqki4Xnd3kfSJ1ss87Ig'),\n",
       " ('dSWJYuyqJXL6Bw8roBsUJw', 'vkXhhcfqb8r341N6U9VWlg'),\n",
       " ('dSWJYuyqJXL6Bw8roBsUJw', 'Vo5X8scFy3N6N7zWIK_d5w'),\n",
       " ('dSWJYuyqJXL6Bw8roBsUJw', 'uddeIFEC2lNR8eVVY6vEkw'),\n",
       " ('dSWJYuyqJXL6Bw8roBsUJw', 'O8Y1xzL-qoHySb7zfadZ8w'),\n",
       " ('dSWJYuyqJXL6Bw8roBsUJw', 'N7sqCVDElAarrqhRp4dhUw'),\n",
       " ('dSWJYuyqJXL6Bw8roBsUJw', 'pUMG7qg9H6q3pk9MQBVBTQ'),\n",
       " ('dSWJYuyqJXL6Bw8roBsUJw', 'l-g97BO03ES8PeJ48EnHOg'),\n",
       " ('dSWJYuyqJXL6Bw8roBsUJw', '51K0w1o2K2_wYgphWxBFdA'),\n",
       " ('dSWJYuyqJXL6Bw8roBsUJw', '89pF_4OWcWNPWIl1C5lK6g'),\n",
       " ('dSWJYuyqJXL6Bw8roBsUJw', '9xtQ6SNFglQhjQjuokuuQw'),\n",
       " ('dSWJYuyqJXL6Bw8roBsUJw', 'tWX7Nw5b1IP_azs5tLMa5w'),\n",
       " ('dSWJYuyqJXL6Bw8roBsUJw', 'bcmcnSWyDY5FephDIdZa5w'),\n",
       " ('dSWJYuyqJXL6Bw8roBsUJw', 'MVKbT_BRDRWKTJ3otClByw'),\n",
       " ('dSWJYuyqJXL6Bw8roBsUJw', '2_Tyu4rLMfzEB4V9fKPzsw'),\n",
       " ('dSWJYuyqJXL6Bw8roBsUJw', 'gAW19vQO0U8g7Vt6YK7rbw'),\n",
       " ('dSWJYuyqJXL6Bw8roBsUJw', 'fuxX7GPgGA7H-KQFFDdXDw'),\n",
       " ('A1cMuN8HztgmAUilPtcKQw', 'C7eD-rvmhskbVook4KKr_g'),\n",
       " ('NeQw3MKelZqf3H7jIiSVfw', 'SCo1UBoeN3bhRMkSYuiX1A'),\n",
       " ('NeQw3MKelZqf3H7jIiSVfw', 'OEuoDD8PboD_wKTU2HYUhg'),\n",
       " ('oB-Hdpf6lgboKCzni3iHsQ', '3mNz5nQFTIBQm0oU5mBR0w'),\n",
       " ('G3h8pIclwUbuu3itJqF7ug', 'HFECrzYDpgbS5EmTBtj2zQ'),\n",
       " ('G3h8pIclwUbuu3itJqF7ug', 't0rFBojfJ3VHp3cJ5jiyPA'),\n",
       " ('G3h8pIclwUbuu3itJqF7ug', 'Thc2zV-K-KLcvJn3fMPdqQ'),\n",
       " ('G3h8pIclwUbuu3itJqF7ug', 'GmYe7X1js7ArVjFWP6-sQA'),\n",
       " ('G3h8pIclwUbuu3itJqF7ug', 'iyR5YwpMnOCmbfvk4KKczA'),\n",
       " ('G3h8pIclwUbuu3itJqF7ug', 'ICwMfseYkrB0ZEK8tDUOHw'),\n",
       " ('G3h8pIclwUbuu3itJqF7ug', 'D0ZuMeONOapIj2o8JQnEQg'),\n",
       " ('G3h8pIclwUbuu3itJqF7ug', 'yh8_9Ix1wp9dekvyOZbilQ'),\n",
       " ('G3h8pIclwUbuu3itJqF7ug', 'whs2bL6uOx35epjNN2Bd3A'),\n",
       " ('G3h8pIclwUbuu3itJqF7ug', 'mgOgzP0SsxNzTVxvIWgjWA'),\n",
       " ('G3h8pIclwUbuu3itJqF7ug', 'V6PeLHJ8D1C7utl4HzjBmg'),\n",
       " ('G3h8pIclwUbuu3itJqF7ug', 'C0bn6f7mqw_JZuHQ0Y3-_Q'),\n",
       " ('G3h8pIclwUbuu3itJqF7ug', 'u7Fm4lu_JvzCOfCEwknMOg'),\n",
       " ('G3h8pIclwUbuu3itJqF7ug', 'lYp818T-xh8Ss79To5Azhw'),\n",
       " ('G3h8pIclwUbuu3itJqF7ug', 'Ve0LUwcrzxL7w0RYgY4Aaw'),\n",
       " ('G3h8pIclwUbuu3itJqF7ug', '3zxy3LVBV3ttxoYbY4rQ8A'),\n",
       " ('G3h8pIclwUbuu3itJqF7ug', 'ACUVZ4SiN0gni7dzVDm9EQ'),\n",
       " ('G3h8pIclwUbuu3itJqF7ug', 'XiLxIJThWsE0x4d0IeSPsg'),\n",
       " ('G3h8pIclwUbuu3itJqF7ug', 'pnTiEaqM4slogpY97n9Kvg'),\n",
       " ('G3h8pIclwUbuu3itJqF7ug', '_gGmS9ktBBxXWnLO7IJwAw'),\n",
       " ('G3h8pIclwUbuu3itJqF7ug', 'UlWDGR0QrBbdFsVY6ugocw'),\n",
       " ('G3h8pIclwUbuu3itJqF7ug', 'dIIKEfOgo0KqUfGQvGikPg'),\n",
       " ('G3h8pIclwUbuu3itJqF7ug', 'tgsU2AYnlpa2mSYpD44OPQ'),\n",
       " ('G3h8pIclwUbuu3itJqF7ug', '3nDUQBjKyVor5wV0reJChg'),\n",
       " ('G3h8pIclwUbuu3itJqF7ug', 'I9PpxV1JrGATW-u3gew3Ew'),\n",
       " ('G3h8pIclwUbuu3itJqF7ug', 'Pf7FI0OukC_CEcCz0ZxoUw'),\n",
       " ('G3h8pIclwUbuu3itJqF7ug', 'hSsbhDF8-pbve7rvGMX8JQ'),\n",
       " ('G3h8pIclwUbuu3itJqF7ug', 'f7l-qjVE7bOWdJwytWRC7A'),\n",
       " ('G3h8pIclwUbuu3itJqF7ug', 'NZOTHK7fVn_4L966mk25EQ'),\n",
       " ('G3h8pIclwUbuu3itJqF7ug', 'f1MFQxTZAWJnRQdrouLg_A'),\n",
       " ('G3h8pIclwUbuu3itJqF7ug', 'JnPIjvC0cmooNDfsa9BmXg'),\n",
       " ('G3h8pIclwUbuu3itJqF7ug', 'lZ0BZ7NWLBK5XgCQUA1ICA'),\n",
       " ('G3h8pIclwUbuu3itJqF7ug', 'e6iCOIhtupBCiw-VwBvJ4A'),\n",
       " ('G3h8pIclwUbuu3itJqF7ug', 'sm6AzP6HSQhI9j9V_oiPWA'),\n",
       " ('G3h8pIclwUbuu3itJqF7ug', 'WPVaxI9MQpaeoikOozY2Dg'),\n",
       " ('G3h8pIclwUbuu3itJqF7ug', '5MCBLBxr10NLUKZ4AboAMg'),\n",
       " ('G3h8pIclwUbuu3itJqF7ug', 'pou3BbKsIozfH50rxmnMew'),\n",
       " ('G3h8pIclwUbuu3itJqF7ug', 'c4isVD2wMVtDA6m5CRkI5Q'),\n",
       " ('G3h8pIclwUbuu3itJqF7ug', 'ET8n-r7glWYqZhuR6GcdNw'),\n",
       " ('G3h8pIclwUbuu3itJqF7ug', 'bVthsfeUU3Bd5AeJLqKT-w'),\n",
       " ('G3h8pIclwUbuu3itJqF7ug', 'M9rRM6Eo5YbKLKMG5QiIPA'),\n",
       " ('G3h8pIclwUbuu3itJqF7ug', 'HuEFLoxkJGSWRuGQGwFM1Q'),\n",
       " ('G3h8pIclwUbuu3itJqF7ug', 'GFyA9ULGAeD-xZEPto2y7A'),\n",
       " ('G3h8pIclwUbuu3itJqF7ug', 'BTxxGYdw8CNV7UZGc9YU1Q'),\n",
       " ('G3h8pIclwUbuu3itJqF7ug', 'wEE-YMx5pmSuagLtNxMPKA'),\n",
       " ('G3h8pIclwUbuu3itJqF7ug', 's_FAHFKUl4YqNofYZC1NYg'),\n",
       " ('G3h8pIclwUbuu3itJqF7ug', 'cqjRzEUUGfFVvNodtHNKRw'),\n",
       " ('G3h8pIclwUbuu3itJqF7ug', 'jRyO2V1pA4CdVVqCIOPc1Q'),\n",
       " ('G3h8pIclwUbuu3itJqF7ug', 'QPJ229sh0rGOUSMpRgKn1Q'),\n",
       " ('G3h8pIclwUbuu3itJqF7ug', 'VvJzTulR17HDj7PDyc789g'),\n",
       " ('G3h8pIclwUbuu3itJqF7ug', 'HXOfPXPMvdXNpQ_l0RRjKw'),\n",
       " ('G3h8pIclwUbuu3itJqF7ug', 'Xy2plQX5HMI_3O7oUP6HLw'),\n",
       " ('G3h8pIclwUbuu3itJqF7ug', 'FDl2n7XpuVX1iiKoxV5nuw'),\n",
       " ('G3h8pIclwUbuu3itJqF7ug', 'UVVn8JcvIZ5fX5tE6Ne4Tw'),\n",
       " ('G3h8pIclwUbuu3itJqF7ug', 'Hi10sGSZNxQH3NLyWSZ1oA'),\n",
       " ('G3h8pIclwUbuu3itJqF7ug', 'fHS0bQ-l5rHME_xXKQSYXQ'),\n",
       " ('G3h8pIclwUbuu3itJqF7ug', 'om5ZiponkpRqUNa3pVPiRg'),\n",
       " ('G3h8pIclwUbuu3itJqF7ug', 'wSByVbwME4MzgkJaFyfvNg')]"
      ]
     },
     "execution_count": 191,
     "metadata": {},
     "output_type": "execute_result"
    }
   ],
   "source": [
    "total_set[:100]"
   ]
  },
  {
   "cell_type": "code",
   "execution_count": null,
   "metadata": {
    "collapsed": true
   },
   "outputs": [],
   "source": [
    "#node2vec\n",
    "to_keep = random.sample(range(len(total_set)), k=int(round(len(total_set)*0.01))) #use only 1%data to run the node2vec algorithm\n",
    "total_set_reduced = [total_set[i] for i in to_keep]"
   ]
  },
  {
   "cell_type": "code",
   "execution_count": 205,
   "metadata": {
    "collapsed": true
   },
   "outputs": [],
   "source": [
    "#map the user_ID to a unique number\n",
    "int2user={}\n",
    "user2int={}\n",
    "num=0\n",
    "for i in Ph_user_set:\n",
    "    user2int[i]=num\n",
    "    int2user[num]=i\n",
    "    num+=1    "
   ]
  },
  {
   "cell_type": "code",
   "execution_count": 1,
   "metadata": {
    "collapsed": false
   },
   "outputs": [
    {
     "ename": "NameError",
     "evalue": "name 'user2int' is not defined",
     "output_type": "error",
     "traceback": [
      "\u001b[0;31m---------------------------------------------------------------------------\u001b[0m",
      "\u001b[0;31mNameError\u001b[0m                                 Traceback (most recent call last)",
      "\u001b[0;32m<ipython-input-1-42342621ba53>\u001b[0m in \u001b[0;36m<module>\u001b[0;34m()\u001b[0m\n\u001b[0;32m----> 1\u001b[0;31m \u001b[0muser2int\u001b[0m\u001b[0;34m\u001b[0m\u001b[0m\n\u001b[0m",
      "\u001b[0;31mNameError\u001b[0m: name 'user2int' is not defined"
     ]
    }
   ],
   "source": [
    "user2int"
   ]
  },
  {
   "cell_type": "code",
   "execution_count": 215,
   "metadata": {
    "collapsed": false
   },
   "outputs": [],
   "source": [
    "#write the edge information into a edgelist and run the node2vec algorithm on a Terminal\n",
    "with open('phd.edgelist', 'w') as f:\n",
    "    for i in total_set:\n",
    "        f.writelines([str(user2int[i[0]]),' ',str(user2int[i[1]]),'\\n'])\n"
   ]
  },
  {
   "cell_type": "code",
   "execution_count": 60,
   "metadata": {
    "collapsed": true
   },
   "outputs": [],
   "source": [
    "to_keep = random.sample(range(len(total_set)), k=int(round(len(total_set)*0.7)))\n",
    "training_set = [total_set[i] for i in to_keep]\n",
    "to_keep = random.sample(range(len(total_set)), k=int(round(len(total_set)*0.3)))\n",
    "testing_set = [total_set[i] for i in to_keep]"
   ]
  },
  {
   "cell_type": "code",
   "execution_count": null,
   "metadata": {
    "collapsed": true
   },
   "outputs": [],
   "source": [
    "#map the user_ID to a unique number\n",
    "int2user={}\n",
    "user2int={}\n",
    "num=0\n",
    "for i in Ph_user_set:\n",
    "    user2int[i]=num\n",
    "    int2user[num]=i\n",
    "    num+=1 "
   ]
  },
  {
   "cell_type": "code",
   "execution_count": null,
   "metadata": {
    "collapsed": true
   },
   "outputs": [],
   "source": [
    "#write the edge information into a edgelist and run the node2vec algorithm on a Terminal\n",
    "#by using command: \"python src/main.py --input graph/phd.edgelist --output emb/phd.emd\"\n",
    "with open('phd.edgelist', 'w') as f:\n",
    "    for i in total_set:\n",
    "        f.writelines([str(user2int[i[0]]),' ',str(user2int[i[1]]),'\\n'])"
   ]
  },
  {
   "cell_type": "code",
   "execution_count": null,
   "metadata": {
    "collapsed": true
   },
   "outputs": [],
   "source": [
    "f=open(\"phd.emb\")\n",
    "n2vdict={}\n",
    "while 1:\n",
    "    line=f.readline()\n",
    "    if not line:\n",
    "        break\n",
    "    n2vdict.update(eval(line))        "
   ]
  },
  {
   "cell_type": "code",
   "execution_count": null,
   "metadata": {
    "collapsed": true
   },
   "outputs": [],
   "source": [
    "#generate the node2vec feature\n",
    "n2vfeature=[]\n",
    "for i in training_set:\n",
    "    n2vfeature.append.(n2vdict[user2int[i[0]]])"
   ]
  },
  {
   "cell_type": "code",
   "execution_count": null,
   "metadata": {
    "collapsed": true
   },
   "outputs": [],
   "source": [
    "n2vfeature_test=[]\n",
    "for i in testing_set:\n",
    "    n2vfeature_test.append.(n2vdict[user2int[i[0]]])"
   ]
  },
  {
   "cell_type": "code",
   "execution_count": 67,
   "metadata": {
    "collapsed": false
   },
   "outputs": [],
   "source": [
    "user_star=defaultdict()\n",
    "for i in range(0,len(user.index)):\n",
    "    user_star[user.iloc[i,21]]=user.loc[i,'average_stars']"
   ]
  },
  {
   "cell_type": "code",
   "execution_count": null,
   "metadata": {
    "collapsed": true
   },
   "outputs": [],
   "source": [
    "#########get local feature\n",
    "star=[]\n",
    "r_count=[]\n",
    "f_count=[]\n",
    "com_cool=[]\n",
    "for i in training_set:\n",
    "    star.append(user_star[i[0]])\n",
    "    r_count.append(len(Ph_user[i[0]]))\n",
    "    f_count.append(len(Ph_user_friends[i[0]]))\n",
    "    com_cool.append(int(private_data_user[i[0]][0]))"
   ]
  },
  {
   "cell_type": "code",
   "execution_count": 68,
   "metadata": {
    "collapsed": true
   },
   "outputs": [],
   "source": [
    "######################get features\n",
    "star_difference=[]\n",
    "com_review=[]\n",
    "com_friends=[]\n",
    "for i in training_set:\n",
    "    star_difference.append(user_star[i[0]]-user_star[i[1]])\n",
    "    com_review.append(len(set(Ph_user[i[0]])&set(Ph_user[i[1]]))/len(set(Ph_user[i[0]])|set(Ph_user[i[1]])))\n",
    "    com_friends.append(len(set(Ph_user_friends[i[0]])&set(Ph_user_friends[i[1]]))/len(set(Ph_user_friends[i[0]])|set(Ph_user_friends[i[1]])))\n",
    "\n"
   ]
  },
  {
   "cell_type": "code",
   "execution_count": 72,
   "metadata": {
    "collapsed": false
   },
   "outputs": [],
   "source": [
    "# convert list of lists into array\n",
    "# documents as rows, unique words as columns (i.e., example as rows, features as columns)\n",
    "training_features = np.array([star,r_count,f_count,com_cool,star_difference,com_review,com_friends,n2vfeature]).T\n",
    "\n",
    "# scale\n",
    "training_features = preprocessing.scale(training_features)\n",
    "\n",
    "# convert labels into integers then into column array\n",
    "labels = [int(element[2]) for element in training_set]\n",
    "labels = list(labels)\n",
    "labels_array = np.array(labels)\n"
   ]
  },
  {
   "cell_type": "code",
   "execution_count": 73,
   "metadata": {
    "collapsed": false
   },
   "outputs": [
    {
     "data": {
      "text/plain": [
       "LinearSVC(C=1.0, class_weight=None, dual=True, fit_intercept=True,\n",
       "     intercept_scaling=1, loss='squared_hinge', max_iter=1000,\n",
       "     multi_class='ovr', penalty='l2', random_state=None, tol=0.0001,\n",
       "     verbose=0)"
      ]
     },
     "execution_count": 73,
     "metadata": {},
     "output_type": "execute_result"
    }
   ],
   "source": [
    "# initialize basic SVM\n",
    "classifier = svm.LinearSVC()\n",
    "\n",
    "# train\n",
    "classifier.fit(training_features, labels_array)"
   ]
  },
  {
   "cell_type": "code",
   "execution_count": null,
   "metadata": {
    "collapsed": true
   },
   "outputs": [],
   "source": [
    "#########get local feature\n",
    "star_test=[]\n",
    "r_count_test=[]\n",
    "f_count_test=[]\n",
    "com_cool_test=[]\n",
    "for i in training_set:\n",
    "    star_test.append(user_star[i[0]])\n",
    "    r_count_test.append(len(Ph_user[i[0]]))\n",
    "    f_count_test.append(len(Ph_user_friends[i[0]]))\n",
    "    com_cool_test.append(int(private_data_user[i[0]][0]))"
   ]
  },
  {
   "cell_type": "code",
   "execution_count": 74,
   "metadata": {
    "collapsed": true
   },
   "outputs": [],
   "source": [
    "######################get features from testing\n",
    "star_difference_test=[]\n",
    "com_review_test=[]\n",
    "com_friends_test=[]\n",
    "for i in testing_set:\n",
    "    star_difference_test.append(user_star[i[0]]-user_star[i[1]])\n",
    "    com_review_test.append(len(set(Ph_user[i[0]])&set(Ph_user[i[1]]))/len(set(Ph_user[i[0]])|set(Ph_user[i[1]])))\n",
    "    com_friends_test.append(len(set(Ph_user_friends[i[0]])&set(Ph_user_friends[i[1]]))/len(set(Ph_user_friends[i[0]])|set(Ph_user_friends[i[1]])))\n",
    "\n"
   ]
  },
  {
   "cell_type": "code",
   "execution_count": 75,
   "metadata": {
    "collapsed": true
   },
   "outputs": [],
   "source": [
    "# convert list of lists into array\n",
    "# documents as rows, unique words as columns (i.e., example as rows, features as columns)\n",
    "testing_features = np.array([star_test,r_count_test,f_count_test,com_cool_test,star_difference_test,com_review_test,com_friends_test,n2vfeature_test]).T\n",
    "\n",
    "# scale\n",
    "testing_features = preprocessing.scale(testing_features)\n"
   ]
  },
  {
   "cell_type": "code",
   "execution_count": 79,
   "metadata": {
    "collapsed": true
   },
   "outputs": [],
   "source": [
    "###SVM\n",
    "# issue predictions\n",
    "predictions_SVM = list(classifier.predict(testing_features))"
   ]
  },
  {
   "cell_type": "code",
   "execution_count": 86,
   "metadata": {
    "collapsed": false
   },
   "outputs": [],
   "source": [
    "Miss_rate=0\n",
    "for i in range(len(testing_set)):\n",
    "    if predictions_SVM[i]!=testing_set[i][2]:\n",
    "        Miss_rate+=1\n",
    "Miss_rate=Miss_rate/len(testing_set)"
   ]
  },
  {
   "cell_type": "code",
   "execution_count": 87,
   "metadata": {
    "collapsed": false
   },
   "outputs": [
    {
     "name": "stdout",
     "output_type": "stream",
     "text": [
      "0.110942010266\n"
     ]
    }
   ],
   "source": [
    "print Miss_rate"
   ]
  },
  {
   "cell_type": "code",
   "execution_count": 90,
   "metadata": {
    "collapsed": false
   },
   "outputs": [
    {
     "data": {
      "text/plain": [
       "AdaBoostClassifier(algorithm='SAMME.R', base_estimator=None,\n",
       "          learning_rate=0.5, n_estimators=50, random_state=None)"
      ]
     },
     "execution_count": 90,
     "metadata": {},
     "output_type": "execute_result"
    }
   ],
   "source": [
    "############adaboosting\n",
    "ada_predict=AdaBoostClassifier(base_estimator=None, n_estimators=50, learning_rate=0.5, algorithm='SAMME.R', random_state=None)\n",
    "ada_predict.fit(training_features,labels_array)"
   ]
  },
  {
   "cell_type": "code",
   "execution_count": 91,
   "metadata": {
    "collapsed": true
   },
   "outputs": [],
   "source": [
    "##########used for ada boosting predict\n",
    "predictions_ada= list(ada_predict.predict(testing_features))\n"
   ]
  },
  {
   "cell_type": "code",
   "execution_count": 92,
   "metadata": {
    "collapsed": false
   },
   "outputs": [
    {
     "name": "stdout",
     "output_type": "stream",
     "text": [
      "0.08929835005\n"
     ]
    }
   ],
   "source": [
    "Miss_rate=0\n",
    "for i in range(len(testing_set)):\n",
    "    if predictions_ada[i]!=testing_set[i][2]:\n",
    "        Miss_rate+=1\n",
    "Miss_rate=Miss_rate/len(testing_set)\n",
    "\n",
    "print Miss_rate"
   ]
  },
  {
   "cell_type": "code",
   "execution_count": 93,
   "metadata": {
    "collapsed": false
   },
   "outputs": [
    {
     "data": {
      "text/plain": [
       "RandomForestClassifier(bootstrap=True, class_weight=None, criterion='gini',\n",
       "            max_depth=None, max_features='auto', max_leaf_nodes=None,\n",
       "            min_impurity_split=1e-07, min_samples_leaf=1,\n",
       "            min_samples_split=2, min_weight_fraction_leaf=0.0,\n",
       "            n_estimators=10, n_jobs=1, oob_score=False, random_state=None,\n",
       "            verbose=0, warm_start=False)"
      ]
     },
     "execution_count": 93,
     "metadata": {},
     "output_type": "execute_result"
    }
   ],
   "source": [
    "############random forest\n",
    "random_f= RandomForestClassifier()\n",
    "random_f.fit(testing_features, labels_array)"
   ]
  },
  {
   "cell_type": "code",
   "execution_count": 94,
   "metadata": {
    "collapsed": true
   },
   "outputs": [],
   "source": [
    "##########this block is used to test the random_forest predictor\n",
    "predictions_random_f= list(random_f.predict(testing_features))\n"
   ]
  },
  {
   "cell_type": "code",
   "execution_count": 95,
   "metadata": {
    "collapsed": false
   },
   "outputs": [
    {
     "name": "stdout",
     "output_type": "stream",
     "text": [
      "0.0793469837027\n"
     ]
    }
   ],
   "source": [
    "Miss_rate=0\n",
    "for i in range(len(testing_set)):\n",
    "    if predictions_random_f[i]!=testing_set[i][2]:\n",
    "        Miss_rate+=1\n",
    "Miss_rate=Miss_rate/len(testing_set)\n",
    "\n",
    "print Miss_rate"
   ]
  },
  {
   "cell_type": "code",
   "execution_count": 98,
   "metadata": {
    "collapsed": false
   },
   "outputs": [
    {
     "data": {
      "text/plain": [
       "GaussianNB(priors=None)"
      ]
     },
     "execution_count": 98,
     "metadata": {},
     "output_type": "execute_result"
    }
   ],
   "source": [
    "#####used for naive bayesian\n",
    "GNB= GaussianNB()\n",
    "GNB.fit(training_features, labels_array)"
   ]
  },
  {
   "cell_type": "code",
   "execution_count": 99,
   "metadata": {
    "collapsed": true
   },
   "outputs": [],
   "source": [
    "#########used for naive bayesian predictor\n",
    "predictions_GNB= list(GNB.predict(testing_features))"
   ]
  },
  {
   "cell_type": "code",
   "execution_count": 1,
   "metadata": {
    "collapsed": false
   },
   "outputs": [
    {
     "ename": "NameError",
     "evalue": "name 'training_features' is not defined",
     "output_type": "error",
     "traceback": [
      "\u001b[0;31m---------------------------------------------------------------------------\u001b[0m",
      "\u001b[0;31mNameError\u001b[0m                                 Traceback (most recent call last)",
      "\u001b[0;32m<ipython-input-1-74ac1d60bb18>\u001b[0m in \u001b[0;36m<module>\u001b[0;34m()\u001b[0m\n\u001b[1;32m      1\u001b[0m \u001b[0;32mfrom\u001b[0m \u001b[0msklearn\u001b[0m\u001b[0;34m.\u001b[0m\u001b[0mneighbors\u001b[0m \u001b[0;32mimport\u001b[0m \u001b[0mKNeighborsClassifier\u001b[0m\u001b[0;34m\u001b[0m\u001b[0m\n\u001b[1;32m      2\u001b[0m \u001b[0mneigh\u001b[0m \u001b[0;34m=\u001b[0m \u001b[0mKNeighborsClassifier\u001b[0m\u001b[0;34m(\u001b[0m\u001b[0mn_neighbors\u001b[0m\u001b[0;34m=\u001b[0m\u001b[0;36m3\u001b[0m\u001b[0;34m)\u001b[0m\u001b[0;34m\u001b[0m\u001b[0m\n\u001b[0;32m----> 3\u001b[0;31m \u001b[0mneigh\u001b[0m\u001b[0;34m.\u001b[0m\u001b[0mfit\u001b[0m\u001b[0;34m(\u001b[0m\u001b[0mtraining_features\u001b[0m\u001b[0;34m,\u001b[0m \u001b[0mlabels_array\u001b[0m\u001b[0;34m)\u001b[0m\u001b[0;34m\u001b[0m\u001b[0m\n\u001b[0m\u001b[1;32m      4\u001b[0m \u001b[0mpredictions_knn\u001b[0m \u001b[0;34m=\u001b[0m \u001b[0mneigh\u001b[0m\u001b[0;34m.\u001b[0m\u001b[0mpredict\u001b[0m\u001b[0;34m(\u001b[0m\u001b[0mtesting_features\u001b[0m\u001b[0;34m)\u001b[0m\u001b[0;34m\u001b[0m\u001b[0m\n",
      "\u001b[0;31mNameError\u001b[0m: name 'training_features' is not defined"
     ]
    }
   ],
   "source": [
    "from sklearn.neighbors import KNeighborsClassifier\n",
    "neigh = KNeighborsClassifier(n_neighbors=3)\n",
    "neigh.fit(training_features, labels_array)\n",
    "predictions_knn = neigh.predict(testing_features)"
   ]
  },
  {
   "cell_type": "code",
   "execution_count": 100,
   "metadata": {
    "collapsed": false
   },
   "outputs": [
    {
     "name": "stdout",
     "output_type": "stream",
     "text": [
      "0.222535464378\n"
     ]
    }
   ],
   "source": [
    "Miss_rate=0\n",
    "for i in range(len(testing_set)):\n",
    "    if predictions_GNB[i]!=testing_set[i][2]:\n",
    "        Miss_rate+=1\n",
    "Miss_rate=Miss_rate/len(testing_set)\n",
    "\n",
    "print Miss_rate"
   ]
  },
  {
   "cell_type": "code",
   "execution_count": null,
   "metadata": {
    "collapsed": false
   },
   "outputs": [
    {
     "name": "stdout",
     "output_type": "stream",
     "text": [
      "0\n",
      "10000\n",
      "20000\n",
      "30000\n",
      "40000\n",
      "50000\n",
      "60000\n",
      "70000\n",
      "80000\n",
      "90000\n",
      "100000\n",
      "110000\n",
      "120000\n",
      "130000\n",
      "140000\n",
      "150000\n",
      "160000\n",
      "170000\n",
      "180000\n",
      "190000\n",
      "200000\n",
      "210000\n",
      "220000\n",
      "230000\n",
      "240000\n",
      "250000\n",
      "260000\n",
      "270000\n",
      "280000\n",
      "290000\n",
      "300000\n",
      "310000\n",
      "320000\n",
      "330000\n",
      "340000\n",
      "350000\n",
      "360000\n",
      "370000\n",
      "380000\n",
      "390000\n",
      "400000\n",
      "410000\n",
      "420000\n",
      "430000\n",
      "440000\n",
      "450000\n",
      "460000\n",
      "470000\n",
      "480000\n",
      "490000\n",
      "500000\n",
      "510000\n",
      "520000\n",
      "530000\n",
      "540000\n",
      "550000\n",
      "560000\n",
      "570000\n",
      "580000\n",
      "590000\n",
      "600000\n",
      "610000\n",
      "620000\n",
      "630000\n",
      "640000\n",
      "650000\n",
      "660000\n",
      "670000\n",
      "680000\n",
      "690000\n",
      "700000\n",
      "710000\n",
      "720000\n",
      "730000\n",
      "740000\n",
      "750000\n",
      "760000\n",
      "770000\n",
      "780000\n",
      "790000\n",
      "800000\n",
      "810000\n",
      "820000\n",
      "830000\n",
      "840000\n",
      "850000\n",
      "860000\n",
      "870000\n",
      "880000\n",
      "890000\n",
      "900000\n",
      "910000\n",
      "920000\n",
      "930000\n",
      "940000\n",
      "950000\n",
      "960000\n",
      "970000\n",
      "980000\n",
      "990000\n",
      "1000000\n",
      "1010000\n",
      "1020000\n",
      "1030000\n",
      "1040000\n",
      "1050000\n",
      "1060000\n",
      "1070000\n",
      "1080000\n",
      "1090000\n",
      "1100000\n",
      "1110000\n",
      "1120000\n",
      "1130000\n",
      "1140000\n",
      "1150000\n",
      "1160000\n",
      "1170000\n",
      "1180000\n",
      "1190000\n",
      "1200000\n",
      "1210000\n",
      "1220000\n",
      "1230000\n",
      "1240000\n",
      "1250000\n",
      "1260000\n",
      "1270000\n",
      "1280000\n",
      "1290000\n",
      "1300000\n",
      "1310000\n",
      "1320000\n",
      "1330000\n",
      "1340000\n",
      "1350000\n",
      "1360000\n",
      "1370000\n",
      "1380000\n",
      "1390000\n",
      "1400000\n",
      "1410000\n",
      "1420000\n",
      "1430000\n",
      "1440000\n",
      "1450000\n",
      "1460000\n",
      "1470000\n",
      "1480000\n",
      "1490000\n",
      "1500000\n",
      "1510000\n",
      "1520000\n",
      "1530000\n",
      "1540000\n",
      "1550000\n",
      "1560000\n",
      "1570000\n",
      "1580000\n",
      "1590000\n",
      "1600000\n",
      "1610000\n",
      "1620000\n",
      "1630000\n",
      "1640000\n",
      "1650000\n",
      "1660000\n",
      "1670000\n",
      "1680000\n",
      "1690000\n",
      "1700000\n",
      "1710000\n",
      "1720000\n",
      "1730000\n",
      "1740000\n",
      "1750000\n",
      "1760000\n",
      "1770000\n",
      "1780000\n",
      "1790000\n",
      "1800000\n",
      "1810000\n",
      "1820000\n",
      "1830000\n",
      "1840000\n",
      "1850000\n",
      "1860000\n",
      "1870000\n",
      "1880000\n",
      "1890000\n",
      "1900000\n",
      "1910000\n",
      "1920000\n",
      "1930000\n",
      "1940000\n",
      "1950000\n",
      "1960000\n",
      "1970000\n",
      "1980000\n",
      "1990000\n",
      "2000000\n",
      "2010000\n",
      "2020000\n",
      "2030000\n",
      "2040000\n",
      "2050000\n",
      "2060000\n",
      "2070000\n",
      "2080000\n",
      "2090000\n",
      "2100000\n",
      "2110000\n",
      "2120000\n",
      "2130000\n",
      "2140000\n",
      "2150000\n",
      "2160000\n",
      "2170000\n",
      "2180000\n",
      "2190000\n",
      "2200000\n",
      "2210000\n",
      "2220000\n",
      "2230000\n",
      "2240000\n",
      "2250000\n",
      "2260000\n"
     ]
    }
   ],
   "source": [
    "bid = None\n",
    "uid_list = []\n",
    "for i in range(N):\n",
    "    if i % 10000 == 0:\n",
    "        print i\n",
    "    row = reviews.iloc[i]\n",
    "    bid_new = row['business_id']\n",
    "    uid_new = row['user_id']\n",
    "    if not uid_new in common_business:\n",
    "        common_business[uid_new] = defaultdict(int)\n",
    "    if bid_new != bid:\n",
    "        bid = bid_new\n",
    "        uid_list = []\n",
    "    else: \n",
    "        for uid in uid_list:\n",
    "            if not uid in common_business:\n",
    "                common_business[uid] = defaultdict(int)\n",
    "            common_business[uid][uid_new] += 1\n",
    "            common_business[uid_new][uid] += 1\n",
    "    uid_list.append(uid_new)"
   ]
  },
  {
   "cell_type": "code",
   "execution_count": 174,
   "metadata": {
    "collapsed": false
   },
   "outputs": [
    {
     "ename": "NameError",
     "evalue": "name 'testing_set' is not defined",
     "output_type": "error",
     "traceback": [
      "\u001b[0;31m---------------------------------------------------------------------------\u001b[0m",
      "\u001b[0;31mNameError\u001b[0m                                 Traceback (most recent call last)",
      "\u001b[0;32m<ipython-input-174-3bcedab39d15>\u001b[0m in \u001b[0;36m<module>\u001b[0;34m()\u001b[0m\n\u001b[0;32m----> 1\u001b[0;31m \u001b[0mtesting_result\u001b[0m \u001b[0;34m=\u001b[0m \u001b[0;34m[\u001b[0m\u001b[0mx\u001b[0m\u001b[0;34m[\u001b[0m\u001b[0;36m2\u001b[0m\u001b[0;34m]\u001b[0m \u001b[0;32mfor\u001b[0m \u001b[0mx\u001b[0m \u001b[0;32min\u001b[0m \u001b[0mtesting_set\u001b[0m\u001b[0;34m]\u001b[0m\u001b[0;34m\u001b[0m\u001b[0m\n\u001b[0m",
      "\u001b[0;31mNameError\u001b[0m: name 'testing_set' is not defined"
     ]
    }
   ],
   "source": [
    "testing_result = [x[2] for x in testing_set]"
   ]
  },
  {
   "cell_type": "code",
   "execution_count": 43,
   "metadata": {
    "collapsed": false
   },
   "outputs": [
    {
     "data": {
      "text/plain": [
       "{u'2N9wrn5A37aOXDrBPIYQdA': defaultdict(int,\n",
       "             {u'5NDk-q5mv8PIDvz83HwMVg': 1,\n",
       "              u'A65IYKs3FwsyyJH20XOk2w': 1,\n",
       "              u'A_Hyfk3FcwFVIk1CQC7z7w': 1,\n",
       "              u'AziQIgYIAY6uVw1k8sbtTw': 1,\n",
       "              u'CWKF9de-nskLYEqDDCfubg': 1,\n",
       "              u'GJ7PTY7huYORFKKg3db3Gw': 1,\n",
       "              u'OvD92wp0-uuFoGLBymwfKQ': 1,\n",
       "              u'UU0nHQtHPMAfLidk8tOHTg': 1,\n",
       "              u'YOo-Cip8HqvKp_p9nEGphw': 1,\n",
       "              u'aW3ix1KNZAvoM8q-WghA3Q': 1,\n",
       "              u'bgl3j8yJcRO-00NkUYsXGQ': 1,\n",
       "              u'oKZiDLm0D1PIm1-vRtvONA': 1,\n",
       "              u'rxqp9eXZj1jYTn0UIsm3Hg': 1,\n",
       "              u'wnzfuir72IZFg5RAPOwWCQ': 1}),\n",
       " u'5NDk-q5mv8PIDvz83HwMVg': defaultdict(int,\n",
       "             {u'2N9wrn5A37aOXDrBPIYQdA': 1,\n",
       "              u'A65IYKs3FwsyyJH20XOk2w': 1,\n",
       "              u'A_Hyfk3FcwFVIk1CQC7z7w': 1,\n",
       "              u'AziQIgYIAY6uVw1k8sbtTw': 1,\n",
       "              u'CWKF9de-nskLYEqDDCfubg': 1,\n",
       "              u'GJ7PTY7huYORFKKg3db3Gw': 1,\n",
       "              u'OvD92wp0-uuFoGLBymwfKQ': 1,\n",
       "              u'UU0nHQtHPMAfLidk8tOHTg': 1,\n",
       "              u'YOo-Cip8HqvKp_p9nEGphw': 1,\n",
       "              u'aW3ix1KNZAvoM8q-WghA3Q': 1,\n",
       "              u'bgl3j8yJcRO-00NkUYsXGQ': 1,\n",
       "              u'oKZiDLm0D1PIm1-vRtvONA': 1,\n",
       "              u'rxqp9eXZj1jYTn0UIsm3Hg': 1,\n",
       "              u'wnzfuir72IZFg5RAPOwWCQ': 1}),\n",
       " u'A65IYKs3FwsyyJH20XOk2w': defaultdict(int,\n",
       "             {u'2N9wrn5A37aOXDrBPIYQdA': 1,\n",
       "              u'5NDk-q5mv8PIDvz83HwMVg': 1,\n",
       "              u'A_Hyfk3FcwFVIk1CQC7z7w': 1,\n",
       "              u'AziQIgYIAY6uVw1k8sbtTw': 1,\n",
       "              u'CWKF9de-nskLYEqDDCfubg': 1,\n",
       "              u'GJ7PTY7huYORFKKg3db3Gw': 1,\n",
       "              u'OvD92wp0-uuFoGLBymwfKQ': 1,\n",
       "              u'UU0nHQtHPMAfLidk8tOHTg': 1,\n",
       "              u'YOo-Cip8HqvKp_p9nEGphw': 1,\n",
       "              u'aW3ix1KNZAvoM8q-WghA3Q': 1,\n",
       "              u'bgl3j8yJcRO-00NkUYsXGQ': 1,\n",
       "              u'oKZiDLm0D1PIm1-vRtvONA': 1,\n",
       "              u'rxqp9eXZj1jYTn0UIsm3Hg': 1,\n",
       "              u'wnzfuir72IZFg5RAPOwWCQ': 1}),\n",
       " u'A_Hyfk3FcwFVIk1CQC7z7w': defaultdict(int,\n",
       "             {u'2N9wrn5A37aOXDrBPIYQdA': 1,\n",
       "              u'5NDk-q5mv8PIDvz83HwMVg': 1,\n",
       "              u'A65IYKs3FwsyyJH20XOk2w': 1,\n",
       "              u'AziQIgYIAY6uVw1k8sbtTw': 1,\n",
       "              u'CWKF9de-nskLYEqDDCfubg': 1,\n",
       "              u'GJ7PTY7huYORFKKg3db3Gw': 1,\n",
       "              u'OvD92wp0-uuFoGLBymwfKQ': 1,\n",
       "              u'UU0nHQtHPMAfLidk8tOHTg': 1,\n",
       "              u'YOo-Cip8HqvKp_p9nEGphw': 1,\n",
       "              u'aW3ix1KNZAvoM8q-WghA3Q': 1,\n",
       "              u'bgl3j8yJcRO-00NkUYsXGQ': 1,\n",
       "              u'oKZiDLm0D1PIm1-vRtvONA': 1,\n",
       "              u'rxqp9eXZj1jYTn0UIsm3Hg': 1,\n",
       "              u'wnzfuir72IZFg5RAPOwWCQ': 1}),\n",
       " u'AziQIgYIAY6uVw1k8sbtTw': defaultdict(int,\n",
       "             {u'2N9wrn5A37aOXDrBPIYQdA': 1,\n",
       "              u'5NDk-q5mv8PIDvz83HwMVg': 1,\n",
       "              u'A65IYKs3FwsyyJH20XOk2w': 1,\n",
       "              u'A_Hyfk3FcwFVIk1CQC7z7w': 1,\n",
       "              u'CWKF9de-nskLYEqDDCfubg': 1,\n",
       "              u'GJ7PTY7huYORFKKg3db3Gw': 1,\n",
       "              u'OvD92wp0-uuFoGLBymwfKQ': 1,\n",
       "              u'UU0nHQtHPMAfLidk8tOHTg': 1,\n",
       "              u'YOo-Cip8HqvKp_p9nEGphw': 1,\n",
       "              u'aW3ix1KNZAvoM8q-WghA3Q': 1,\n",
       "              u'bgl3j8yJcRO-00NkUYsXGQ': 1,\n",
       "              u'oKZiDLm0D1PIm1-vRtvONA': 1,\n",
       "              u'rxqp9eXZj1jYTn0UIsm3Hg': 1,\n",
       "              u'wnzfuir72IZFg5RAPOwWCQ': 1}),\n",
       " u'CWKF9de-nskLYEqDDCfubg': defaultdict(int,\n",
       "             {u'2N9wrn5A37aOXDrBPIYQdA': 1,\n",
       "              u'5NDk-q5mv8PIDvz83HwMVg': 1,\n",
       "              u'A65IYKs3FwsyyJH20XOk2w': 1,\n",
       "              u'A_Hyfk3FcwFVIk1CQC7z7w': 1,\n",
       "              u'AziQIgYIAY6uVw1k8sbtTw': 1,\n",
       "              u'GJ7PTY7huYORFKKg3db3Gw': 1,\n",
       "              u'OvD92wp0-uuFoGLBymwfKQ': 1,\n",
       "              u'UU0nHQtHPMAfLidk8tOHTg': 1,\n",
       "              u'YOo-Cip8HqvKp_p9nEGphw': 1,\n",
       "              u'aW3ix1KNZAvoM8q-WghA3Q': 1,\n",
       "              u'bgl3j8yJcRO-00NkUYsXGQ': 1,\n",
       "              u'oKZiDLm0D1PIm1-vRtvONA': 1,\n",
       "              u'rxqp9eXZj1jYTn0UIsm3Hg': 1,\n",
       "              u'wnzfuir72IZFg5RAPOwWCQ': 1}),\n",
       " u'GJ7PTY7huYORFKKg3db3Gw': defaultdict(int,\n",
       "             {u'2N9wrn5A37aOXDrBPIYQdA': 1,\n",
       "              u'5NDk-q5mv8PIDvz83HwMVg': 1,\n",
       "              u'A65IYKs3FwsyyJH20XOk2w': 1,\n",
       "              u'A_Hyfk3FcwFVIk1CQC7z7w': 1,\n",
       "              u'AziQIgYIAY6uVw1k8sbtTw': 1,\n",
       "              u'CWKF9de-nskLYEqDDCfubg': 1,\n",
       "              u'OvD92wp0-uuFoGLBymwfKQ': 1,\n",
       "              u'UU0nHQtHPMAfLidk8tOHTg': 1,\n",
       "              u'YOo-Cip8HqvKp_p9nEGphw': 1,\n",
       "              u'aW3ix1KNZAvoM8q-WghA3Q': 1,\n",
       "              u'bgl3j8yJcRO-00NkUYsXGQ': 1,\n",
       "              u'oKZiDLm0D1PIm1-vRtvONA': 1,\n",
       "              u'rxqp9eXZj1jYTn0UIsm3Hg': 1,\n",
       "              u'wnzfuir72IZFg5RAPOwWCQ': 1}),\n",
       " u'KpkOkG6RIf4Ra25Lhhxf1A': defaultdict(int,\n",
       "             {u'bQ7fQq1otn9hKX-gXRsrgA': 1, u'r1NUhdNmL6yU9Bn-Yx6FTw': 1}),\n",
       " u'OvD92wp0-uuFoGLBymwfKQ': defaultdict(int,\n",
       "             {u'2N9wrn5A37aOXDrBPIYQdA': 1,\n",
       "              u'5NDk-q5mv8PIDvz83HwMVg': 1,\n",
       "              u'A65IYKs3FwsyyJH20XOk2w': 1,\n",
       "              u'A_Hyfk3FcwFVIk1CQC7z7w': 1,\n",
       "              u'AziQIgYIAY6uVw1k8sbtTw': 1,\n",
       "              u'CWKF9de-nskLYEqDDCfubg': 1,\n",
       "              u'GJ7PTY7huYORFKKg3db3Gw': 1,\n",
       "              u'UU0nHQtHPMAfLidk8tOHTg': 1,\n",
       "              u'YOo-Cip8HqvKp_p9nEGphw': 1,\n",
       "              u'aW3ix1KNZAvoM8q-WghA3Q': 1,\n",
       "              u'bgl3j8yJcRO-00NkUYsXGQ': 1,\n",
       "              u'oKZiDLm0D1PIm1-vRtvONA': 1,\n",
       "              u'rxqp9eXZj1jYTn0UIsm3Hg': 1,\n",
       "              u'wnzfuir72IZFg5RAPOwWCQ': 1}),\n",
       " u'UU0nHQtHPMAfLidk8tOHTg': defaultdict(int,\n",
       "             {u'2N9wrn5A37aOXDrBPIYQdA': 1,\n",
       "              u'5NDk-q5mv8PIDvz83HwMVg': 1,\n",
       "              u'A65IYKs3FwsyyJH20XOk2w': 1,\n",
       "              u'A_Hyfk3FcwFVIk1CQC7z7w': 1,\n",
       "              u'AziQIgYIAY6uVw1k8sbtTw': 1,\n",
       "              u'CWKF9de-nskLYEqDDCfubg': 1,\n",
       "              u'GJ7PTY7huYORFKKg3db3Gw': 1,\n",
       "              u'OvD92wp0-uuFoGLBymwfKQ': 1,\n",
       "              u'YOo-Cip8HqvKp_p9nEGphw': 1,\n",
       "              u'aW3ix1KNZAvoM8q-WghA3Q': 1,\n",
       "              u'bgl3j8yJcRO-00NkUYsXGQ': 1,\n",
       "              u'oKZiDLm0D1PIm1-vRtvONA': 1,\n",
       "              u'rxqp9eXZj1jYTn0UIsm3Hg': 1,\n",
       "              u'wnzfuir72IZFg5RAPOwWCQ': 1}),\n",
       " u'XMRkVYpQAZpWOpia5-MoPw': defaultdict(int, {u'jhhHm3Vk9ZlP21WdY_5R0w': 1}),\n",
       " u'YOo-Cip8HqvKp_p9nEGphw': defaultdict(int,\n",
       "             {u'2N9wrn5A37aOXDrBPIYQdA': 1,\n",
       "              u'5NDk-q5mv8PIDvz83HwMVg': 1,\n",
       "              u'A65IYKs3FwsyyJH20XOk2w': 1,\n",
       "              u'A_Hyfk3FcwFVIk1CQC7z7w': 1,\n",
       "              u'AziQIgYIAY6uVw1k8sbtTw': 1,\n",
       "              u'CWKF9de-nskLYEqDDCfubg': 1,\n",
       "              u'GJ7PTY7huYORFKKg3db3Gw': 1,\n",
       "              u'OvD92wp0-uuFoGLBymwfKQ': 1,\n",
       "              u'UU0nHQtHPMAfLidk8tOHTg': 1,\n",
       "              u'aW3ix1KNZAvoM8q-WghA3Q': 1,\n",
       "              u'bgl3j8yJcRO-00NkUYsXGQ': 1,\n",
       "              u'oKZiDLm0D1PIm1-vRtvONA': 1,\n",
       "              u'rxqp9eXZj1jYTn0UIsm3Hg': 1,\n",
       "              u'wnzfuir72IZFg5RAPOwWCQ': 1}),\n",
       " u'aW3ix1KNZAvoM8q-WghA3Q': defaultdict(int,\n",
       "             {u'2N9wrn5A37aOXDrBPIYQdA': 1,\n",
       "              u'5NDk-q5mv8PIDvz83HwMVg': 1,\n",
       "              u'A65IYKs3FwsyyJH20XOk2w': 1,\n",
       "              u'A_Hyfk3FcwFVIk1CQC7z7w': 1,\n",
       "              u'AziQIgYIAY6uVw1k8sbtTw': 1,\n",
       "              u'CWKF9de-nskLYEqDDCfubg': 1,\n",
       "              u'GJ7PTY7huYORFKKg3db3Gw': 1,\n",
       "              u'OvD92wp0-uuFoGLBymwfKQ': 1,\n",
       "              u'UU0nHQtHPMAfLidk8tOHTg': 1,\n",
       "              u'YOo-Cip8HqvKp_p9nEGphw': 1,\n",
       "              u'bgl3j8yJcRO-00NkUYsXGQ': 1,\n",
       "              u'oKZiDLm0D1PIm1-vRtvONA': 1,\n",
       "              u'rxqp9eXZj1jYTn0UIsm3Hg': 1,\n",
       "              u'wnzfuir72IZFg5RAPOwWCQ': 1}),\n",
       " u'bQ7fQq1otn9hKX-gXRsrgA': defaultdict(int,\n",
       "             {u'KpkOkG6RIf4Ra25Lhhxf1A': 1, u'r1NUhdNmL6yU9Bn-Yx6FTw': 1}),\n",
       " u'bgl3j8yJcRO-00NkUYsXGQ': defaultdict(int,\n",
       "             {u'2N9wrn5A37aOXDrBPIYQdA': 1,\n",
       "              u'5NDk-q5mv8PIDvz83HwMVg': 1,\n",
       "              u'A65IYKs3FwsyyJH20XOk2w': 1,\n",
       "              u'A_Hyfk3FcwFVIk1CQC7z7w': 1,\n",
       "              u'AziQIgYIAY6uVw1k8sbtTw': 1,\n",
       "              u'CWKF9de-nskLYEqDDCfubg': 1,\n",
       "              u'GJ7PTY7huYORFKKg3db3Gw': 1,\n",
       "              u'OvD92wp0-uuFoGLBymwfKQ': 1,\n",
       "              u'UU0nHQtHPMAfLidk8tOHTg': 1,\n",
       "              u'YOo-Cip8HqvKp_p9nEGphw': 1,\n",
       "              u'aW3ix1KNZAvoM8q-WghA3Q': 1,\n",
       "              u'oKZiDLm0D1PIm1-vRtvONA': 1,\n",
       "              u'rxqp9eXZj1jYTn0UIsm3Hg': 1,\n",
       "              u'wnzfuir72IZFg5RAPOwWCQ': 1}),\n",
       " u'jhhHm3Vk9ZlP21WdY_5R0w': defaultdict(int, {u'XMRkVYpQAZpWOpia5-MoPw': 1}),\n",
       " u'oKZiDLm0D1PIm1-vRtvONA': defaultdict(int,\n",
       "             {u'2N9wrn5A37aOXDrBPIYQdA': 1,\n",
       "              u'5NDk-q5mv8PIDvz83HwMVg': 1,\n",
       "              u'A65IYKs3FwsyyJH20XOk2w': 1,\n",
       "              u'A_Hyfk3FcwFVIk1CQC7z7w': 1,\n",
       "              u'AziQIgYIAY6uVw1k8sbtTw': 1,\n",
       "              u'CWKF9de-nskLYEqDDCfubg': 1,\n",
       "              u'GJ7PTY7huYORFKKg3db3Gw': 1,\n",
       "              u'OvD92wp0-uuFoGLBymwfKQ': 1,\n",
       "              u'UU0nHQtHPMAfLidk8tOHTg': 1,\n",
       "              u'YOo-Cip8HqvKp_p9nEGphw': 1,\n",
       "              u'aW3ix1KNZAvoM8q-WghA3Q': 1,\n",
       "              u'bgl3j8yJcRO-00NkUYsXGQ': 1,\n",
       "              u'rxqp9eXZj1jYTn0UIsm3Hg': 1,\n",
       "              u'wnzfuir72IZFg5RAPOwWCQ': 1}),\n",
       " u'r1NUhdNmL6yU9Bn-Yx6FTw': defaultdict(int,\n",
       "             {u'KpkOkG6RIf4Ra25Lhhxf1A': 1, u'bQ7fQq1otn9hKX-gXRsrgA': 1}),\n",
       " u'rxqp9eXZj1jYTn0UIsm3Hg': defaultdict(int,\n",
       "             {u'2N9wrn5A37aOXDrBPIYQdA': 1,\n",
       "              u'5NDk-q5mv8PIDvz83HwMVg': 1,\n",
       "              u'A65IYKs3FwsyyJH20XOk2w': 1,\n",
       "              u'A_Hyfk3FcwFVIk1CQC7z7w': 1,\n",
       "              u'AziQIgYIAY6uVw1k8sbtTw': 1,\n",
       "              u'CWKF9de-nskLYEqDDCfubg': 1,\n",
       "              u'GJ7PTY7huYORFKKg3db3Gw': 1,\n",
       "              u'OvD92wp0-uuFoGLBymwfKQ': 1,\n",
       "              u'UU0nHQtHPMAfLidk8tOHTg': 1,\n",
       "              u'YOo-Cip8HqvKp_p9nEGphw': 1,\n",
       "              u'aW3ix1KNZAvoM8q-WghA3Q': 1,\n",
       "              u'bgl3j8yJcRO-00NkUYsXGQ': 1,\n",
       "              u'oKZiDLm0D1PIm1-vRtvONA': 1,\n",
       "              u'wnzfuir72IZFg5RAPOwWCQ': 1}),\n",
       " u'wnzfuir72IZFg5RAPOwWCQ': defaultdict(int,\n",
       "             {u'2N9wrn5A37aOXDrBPIYQdA': 1,\n",
       "              u'5NDk-q5mv8PIDvz83HwMVg': 1,\n",
       "              u'A65IYKs3FwsyyJH20XOk2w': 1,\n",
       "              u'A_Hyfk3FcwFVIk1CQC7z7w': 1,\n",
       "              u'AziQIgYIAY6uVw1k8sbtTw': 1,\n",
       "              u'CWKF9de-nskLYEqDDCfubg': 1,\n",
       "              u'GJ7PTY7huYORFKKg3db3Gw': 1,\n",
       "              u'OvD92wp0-uuFoGLBymwfKQ': 1,\n",
       "              u'UU0nHQtHPMAfLidk8tOHTg': 1,\n",
       "              u'YOo-Cip8HqvKp_p9nEGphw': 1,\n",
       "              u'aW3ix1KNZAvoM8q-WghA3Q': 1,\n",
       "              u'bgl3j8yJcRO-00NkUYsXGQ': 1,\n",
       "              u'oKZiDLm0D1PIm1-vRtvONA': 1,\n",
       "              u'rxqp9eXZj1jYTn0UIsm3Hg': 1})}"
      ]
     },
     "execution_count": 43,
     "metadata": {},
     "output_type": "execute_result"
    }
   ],
   "source": []
  },
  {
   "cell_type": "code",
   "execution_count": 44,
   "metadata": {
    "collapsed": false
   },
   "outputs": [
    {
     "data": {
      "text/html": [
       "<div>\n",
       "<table border=\"1\" class=\"dataframe\">\n",
       "  <thead>\n",
       "    <tr style=\"text-align: right;\">\n",
       "      <th></th>\n",
       "      <th>business_id</th>\n",
       "      <th>stars</th>\n",
       "      <th>user_id</th>\n",
       "    </tr>\n",
       "  </thead>\n",
       "  <tbody>\n",
       "    <tr>\n",
       "      <th>0</th>\n",
       "      <td>2aFiy99vNLklCx3T_tGS9A</td>\n",
       "      <td>5</td>\n",
       "      <td>KpkOkG6RIf4Ra25Lhhxf1A</td>\n",
       "    </tr>\n",
       "    <tr>\n",
       "      <th>1</th>\n",
       "      <td>2aFiy99vNLklCx3T_tGS9A</td>\n",
       "      <td>5</td>\n",
       "      <td>bQ7fQq1otn9hKX-gXRsrgA</td>\n",
       "    </tr>\n",
       "    <tr>\n",
       "      <th>2</th>\n",
       "      <td>2aFiy99vNLklCx3T_tGS9A</td>\n",
       "      <td>5</td>\n",
       "      <td>r1NUhdNmL6yU9Bn-Yx6FTw</td>\n",
       "    </tr>\n",
       "    <tr>\n",
       "      <th>3</th>\n",
       "      <td>2LfIuF3_sX6uwe-IR-P0jQ</td>\n",
       "      <td>5</td>\n",
       "      <td>aW3ix1KNZAvoM8q-WghA3Q</td>\n",
       "    </tr>\n",
       "    <tr>\n",
       "      <th>4</th>\n",
       "      <td>2LfIuF3_sX6uwe-IR-P0jQ</td>\n",
       "      <td>4</td>\n",
       "      <td>YOo-Cip8HqvKp_p9nEGphw</td>\n",
       "    </tr>\n",
       "    <tr>\n",
       "      <th>5</th>\n",
       "      <td>2LfIuF3_sX6uwe-IR-P0jQ</td>\n",
       "      <td>5</td>\n",
       "      <td>bgl3j8yJcRO-00NkUYsXGQ</td>\n",
       "    </tr>\n",
       "    <tr>\n",
       "      <th>6</th>\n",
       "      <td>2LfIuF3_sX6uwe-IR-P0jQ</td>\n",
       "      <td>4</td>\n",
       "      <td>CWKF9de-nskLYEqDDCfubg</td>\n",
       "    </tr>\n",
       "    <tr>\n",
       "      <th>7</th>\n",
       "      <td>2LfIuF3_sX6uwe-IR-P0jQ</td>\n",
       "      <td>5</td>\n",
       "      <td>GJ7PTY7huYORFKKg3db3Gw</td>\n",
       "    </tr>\n",
       "    <tr>\n",
       "      <th>8</th>\n",
       "      <td>2LfIuF3_sX6uwe-IR-P0jQ</td>\n",
       "      <td>5</td>\n",
       "      <td>rxqp9eXZj1jYTn0UIsm3Hg</td>\n",
       "    </tr>\n",
       "    <tr>\n",
       "      <th>9</th>\n",
       "      <td>2LfIuF3_sX6uwe-IR-P0jQ</td>\n",
       "      <td>5</td>\n",
       "      <td>UU0nHQtHPMAfLidk8tOHTg</td>\n",
       "    </tr>\n",
       "    <tr>\n",
       "      <th>10</th>\n",
       "      <td>2LfIuF3_sX6uwe-IR-P0jQ</td>\n",
       "      <td>1</td>\n",
       "      <td>A_Hyfk3FcwFVIk1CQC7z7w</td>\n",
       "    </tr>\n",
       "    <tr>\n",
       "      <th>11</th>\n",
       "      <td>2LfIuF3_sX6uwe-IR-P0jQ</td>\n",
       "      <td>5</td>\n",
       "      <td>OvD92wp0-uuFoGLBymwfKQ</td>\n",
       "    </tr>\n",
       "    <tr>\n",
       "      <th>12</th>\n",
       "      <td>2LfIuF3_sX6uwe-IR-P0jQ</td>\n",
       "      <td>4</td>\n",
       "      <td>5NDk-q5mv8PIDvz83HwMVg</td>\n",
       "    </tr>\n",
       "    <tr>\n",
       "      <th>13</th>\n",
       "      <td>2LfIuF3_sX6uwe-IR-P0jQ</td>\n",
       "      <td>5</td>\n",
       "      <td>AziQIgYIAY6uVw1k8sbtTw</td>\n",
       "    </tr>\n",
       "    <tr>\n",
       "      <th>14</th>\n",
       "      <td>2LfIuF3_sX6uwe-IR-P0jQ</td>\n",
       "      <td>5</td>\n",
       "      <td>A65IYKs3FwsyyJH20XOk2w</td>\n",
       "    </tr>\n",
       "    <tr>\n",
       "      <th>15</th>\n",
       "      <td>2LfIuF3_sX6uwe-IR-P0jQ</td>\n",
       "      <td>1</td>\n",
       "      <td>wnzfuir72IZFg5RAPOwWCQ</td>\n",
       "    </tr>\n",
       "    <tr>\n",
       "      <th>16</th>\n",
       "      <td>2LfIuF3_sX6uwe-IR-P0jQ</td>\n",
       "      <td>4</td>\n",
       "      <td>2N9wrn5A37aOXDrBPIYQdA</td>\n",
       "    </tr>\n",
       "    <tr>\n",
       "      <th>17</th>\n",
       "      <td>2LfIuF3_sX6uwe-IR-P0jQ</td>\n",
       "      <td>5</td>\n",
       "      <td>oKZiDLm0D1PIm1-vRtvONA</td>\n",
       "    </tr>\n",
       "    <tr>\n",
       "      <th>18</th>\n",
       "      <td>0czfEgv9KAD4VlIa7ANPWQ</td>\n",
       "      <td>1</td>\n",
       "      <td>XMRkVYpQAZpWOpia5-MoPw</td>\n",
       "    </tr>\n",
       "    <tr>\n",
       "      <th>19</th>\n",
       "      <td>0czfEgv9KAD4VlIa7ANPWQ</td>\n",
       "      <td>5</td>\n",
       "      <td>jhhHm3Vk9ZlP21WdY_5R0w</td>\n",
       "    </tr>\n",
       "  </tbody>\n",
       "</table>\n",
       "</div>"
      ],
      "text/plain": [
       "               business_id  stars                 user_id\n",
       "0   2aFiy99vNLklCx3T_tGS9A      5  KpkOkG6RIf4Ra25Lhhxf1A\n",
       "1   2aFiy99vNLklCx3T_tGS9A      5  bQ7fQq1otn9hKX-gXRsrgA\n",
       "2   2aFiy99vNLklCx3T_tGS9A      5  r1NUhdNmL6yU9Bn-Yx6FTw\n",
       "3   2LfIuF3_sX6uwe-IR-P0jQ      5  aW3ix1KNZAvoM8q-WghA3Q\n",
       "4   2LfIuF3_sX6uwe-IR-P0jQ      4  YOo-Cip8HqvKp_p9nEGphw\n",
       "5   2LfIuF3_sX6uwe-IR-P0jQ      5  bgl3j8yJcRO-00NkUYsXGQ\n",
       "6   2LfIuF3_sX6uwe-IR-P0jQ      4  CWKF9de-nskLYEqDDCfubg\n",
       "7   2LfIuF3_sX6uwe-IR-P0jQ      5  GJ7PTY7huYORFKKg3db3Gw\n",
       "8   2LfIuF3_sX6uwe-IR-P0jQ      5  rxqp9eXZj1jYTn0UIsm3Hg\n",
       "9   2LfIuF3_sX6uwe-IR-P0jQ      5  UU0nHQtHPMAfLidk8tOHTg\n",
       "10  2LfIuF3_sX6uwe-IR-P0jQ      1  A_Hyfk3FcwFVIk1CQC7z7w\n",
       "11  2LfIuF3_sX6uwe-IR-P0jQ      5  OvD92wp0-uuFoGLBymwfKQ\n",
       "12  2LfIuF3_sX6uwe-IR-P0jQ      4  5NDk-q5mv8PIDvz83HwMVg\n",
       "13  2LfIuF3_sX6uwe-IR-P0jQ      5  AziQIgYIAY6uVw1k8sbtTw\n",
       "14  2LfIuF3_sX6uwe-IR-P0jQ      5  A65IYKs3FwsyyJH20XOk2w\n",
       "15  2LfIuF3_sX6uwe-IR-P0jQ      1  wnzfuir72IZFg5RAPOwWCQ\n",
       "16  2LfIuF3_sX6uwe-IR-P0jQ      4  2N9wrn5A37aOXDrBPIYQdA\n",
       "17  2LfIuF3_sX6uwe-IR-P0jQ      5  oKZiDLm0D1PIm1-vRtvONA\n",
       "18  0czfEgv9KAD4VlIa7ANPWQ      1  XMRkVYpQAZpWOpia5-MoPw\n",
       "19  0czfEgv9KAD4VlIa7ANPWQ      5  jhhHm3Vk9ZlP21WdY_5R0w"
      ]
     },
     "execution_count": 44,
     "metadata": {},
     "output_type": "execute_result"
    }
   ],
   "source": [
    "reviews.head(20)"
   ]
  },
  {
   "cell_type": "code",
   "execution_count": 1,
   "metadata": {
    "collapsed": false
   },
   "outputs": [
    {
     "ename": "NameError",
     "evalue": "name 'reviews' is not defined",
     "output_type": "error",
     "traceback": [
      "\u001b[0;31m---------------------------------------------------------------------------\u001b[0m",
      "\u001b[0;31mNameError\u001b[0m                                 Traceback (most recent call last)",
      "\u001b[0;32m<ipython-input-1-3961ac068e80>\u001b[0m in \u001b[0;36m<module>\u001b[0;34m()\u001b[0m\n\u001b[0;32m----> 1\u001b[0;31m \u001b[0mreviews\u001b[0m\u001b[0;34m.\u001b[0m\u001b[0mcount\u001b[0m\u001b[0;34m\u001b[0m\u001b[0m\n\u001b[0m",
      "\u001b[0;31mNameError\u001b[0m: name 'reviews' is not defined"
     ]
    }
   ],
   "source": [
    "reviews.count"
   ]
  },
  {
   "cell_type": "code",
   "execution_count": null,
   "metadata": {
    "collapsed": true
   },
   "outputs": [],
   "source": []
  },
  {
   "cell_type": "code",
   "execution_count": null,
   "metadata": {
    "collapsed": true
   },
   "outputs": [],
   "source": []
  },
  {
   "cell_type": "code",
   "execution_count": null,
   "metadata": {
    "collapsed": true
   },
   "outputs": [],
   "source": []
  },
  {
   "cell_type": "code",
   "execution_count": null,
   "metadata": {
    "collapsed": true
   },
   "outputs": [],
   "source": []
  },
  {
   "cell_type": "code",
   "execution_count": null,
   "metadata": {
    "collapsed": true
   },
   "outputs": [],
   "source": []
  },
  {
   "cell_type": "code",
   "execution_count": null,
   "metadata": {
    "collapsed": true
   },
   "outputs": [],
   "source": [
    "# read user data\n",
    "with open('yelp_academic_dataset_user.json') as u:\n",
    "    user=pd.DataFrame(json.loads(line) for line in u)"
   ]
  }
 ],
 "metadata": {
  "anaconda-cloud": {},
  "kernelspec": {
   "display_name": "Python 2",
   "language": "python",
   "name": "python2"
  },
  "language_info": {
   "codemirror_mode": {
    "name": "ipython",
    "version": 2
   },
   "file_extension": ".py",
   "mimetype": "text/x-python",
   "name": "python",
   "nbconvert_exporter": "python",
   "pygments_lexer": "ipython2",
   "version": "2.7.13"
  }
 },
 "nbformat": 4,
 "nbformat_minor": 2
}
